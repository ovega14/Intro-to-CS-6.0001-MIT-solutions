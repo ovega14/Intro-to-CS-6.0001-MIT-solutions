{
 "cells": [
  {
   "cell_type": "markdown",
   "metadata": {},
   "source": [
    "# 6.0001 Lecture 6: Recursion and Dictionaries"
   ]
  },
  {
   "cell_type": "markdown",
   "metadata": {},
   "source": [
    "**Speaker:** Prof. Eric Grimson"
   ]
  },
  {
   "cell_type": "markdown",
   "metadata": {},
   "source": [
    "## Last Time:\n",
    "- tuples - immutable\n",
    "- lists - mutable\n",
    "- aliasing, cloning\n",
    "- mutability side effects"
   ]
  },
  {
   "cell_type": "markdown",
   "metadata": {},
   "source": [
    "## Today:\n",
    "- recursion - divide/decrease and conquer\n",
    "- dictionaries - another mutable object type"
   ]
  },
  {
   "cell_type": "markdown",
   "metadata": {},
   "source": [
    "## Recursion\n",
    "- **recursion** is the process of repeating items in a self-similar way\n",
    "- algorithmically: a way to design solutions to problems by **divide-and-conquer** or **decrease-and-conquer**\n",
    "    - reduce a problem to simpler versions of the same problem\n",
    "- semantically: a programming technique where a **function calls itself**\n",
    "    - in programming, goal is to NOT have infinite recursion\n",
    "        - must have **1 or more base cases** that are easy to solve\n",
    "        - must solve the same problem on **some other input** with the goal of simplifying the larger problem input"
   ]
  },
  {
   "cell_type": "markdown",
   "metadata": {},
   "source": [
    "## Iterative Algorithms so Far\n",
    "- looping constructs (while and for loops) lead to **iterative** algorithms\n",
    "- can capture computation in a set of **state variables** that update on each iteration through loop"
   ]
  },
  {
   "cell_type": "markdown",
   "metadata": {},
   "source": [
    "## Multiplication - Iterative Solution\n",
    "- \"multiply a * b\" is equivalent to \"add a to itself b times\"\n",
    "- capture **state** by \n",
    "    - an **iteration** number (i) starts at b\n",
    "        - i <-- i-1 and stop when 0\n",
    "    - a current **value of computation** (result)\n",
    "        - result <-- result + a"
   ]
  },
  {
   "cell_type": "code",
   "execution_count": 1,
   "metadata": {},
   "outputs": [],
   "source": [
    "def mult_iter(a, b):\n",
    "    result = 0\n",
    "    while b > 0: # iteration\n",
    "        result += a # current value of computation, a running sum\n",
    "        b -= 1 # current value of iteration variable\n",
    "    return result"
   ]
  },
  {
   "cell_type": "code",
   "execution_count": 2,
   "metadata": {},
   "outputs": [
    {
     "data": {
      "text/plain": [
       "20"
      ]
     },
     "execution_count": 2,
     "metadata": {},
     "output_type": "execute_result"
    }
   ],
   "source": [
    "mult_iter(2, 10)"
   ]
  },
  {
   "cell_type": "markdown",
   "metadata": {},
   "source": [
    "## Multiplication - Recursive Solution\n",
    "- **recursive step**\n",
    "    - think how to reduce problem to a **simpler/smaller version** of same problem\n",
    "- **base case**\n",
    "    - keep reducing problem until reach a simple case that can be **solved directly**\n",
    "    - when b=1, a * b = a"
   ]
  },
  {
   "cell_type": "code",
   "execution_count": 3,
   "metadata": {},
   "outputs": [],
   "source": [
    "def mult(a,b):\n",
    "    if b == 1:\n",
    "        return a\n",
    "    else:\n",
    "        return a + mult(a, b-1)"
   ]
  },
  {
   "cell_type": "code",
   "execution_count": 4,
   "metadata": {},
   "outputs": [
    {
     "data": {
      "text/plain": [
       "20"
      ]
     },
     "execution_count": 4,
     "metadata": {},
     "output_type": "execute_result"
    }
   ],
   "source": [
    "mult(2, 10)"
   ]
  },
  {
   "cell_type": "markdown",
   "metadata": {},
   "source": [
    "## Factorial\n",
    "$$n! = n\\cdot(n-1)\\cdot(n-2)\\cdot(n-3)\\cdots 2\\cdot1 $$\n",
    "- for what $n$ do we know the factorial?\n",
    "    - n=1 --> 1 (base case)\n",
    "- how to reduce problem? Rewrite in terms of something simpler to reach base case\n",
    "    - n * (n-1)!"
   ]
  },
  {
   "cell_type": "code",
   "execution_count": 5,
   "metadata": {},
   "outputs": [],
   "source": [
    "def fact(n):\n",
    "    if n == 1:\n",
    "        return 1\n",
    "    else:\n",
    "        return n*fact(n-1)"
   ]
  },
  {
   "cell_type": "code",
   "execution_count": 6,
   "metadata": {},
   "outputs": [
    {
     "data": {
      "text/plain": [
       "120"
      ]
     },
     "execution_count": 6,
     "metadata": {},
     "output_type": "execute_result"
    }
   ],
   "source": [
    "fact(5)"
   ]
  },
  {
   "cell_type": "markdown",
   "metadata": {},
   "source": [
    "- **recursive function scope**: sequence of nested frames/environments as fact(n) is called \n",
    "    - global scope: fact (some code)\n",
    "        - fact scope: call w/ n=5\n",
    "            - fact scope: call w/ n=4\n",
    "                - fact scope: call w/ n=3\n",
    "                    - etc. until n=1"
   ]
  },
  {
   "cell_type": "markdown",
   "metadata": {},
   "source": [
    "## Some Observations\n",
    "- each recursive call to a function creates its **own scope/environment**\n",
    "- **bindings of variables** in a scope are not changed by a recursive call\n",
    "- flow of control passes back to **previous scope** once function call returns value"
   ]
  },
  {
   "cell_type": "markdown",
   "metadata": {},
   "source": [
    "## Iteration vs Recursion"
   ]
  },
  {
   "cell_type": "code",
   "execution_count": 7,
   "metadata": {},
   "outputs": [],
   "source": [
    "# iterative approach\n",
    "def factorial_iter(n):\n",
    "    prod = 1\n",
    "    for i in range(1, n+1):\n",
    "        prod *= i\n",
    "    return prod\n",
    "\n",
    "# recursive approach\n",
    "def factorial(n):\n",
    "    if n == 1:\n",
    "        return 1\n",
    "    else:\n",
    "        return n*factorial(n-1)"
   ]
  },
  {
   "cell_type": "markdown",
   "metadata": {},
   "source": [
    "- recursion may be simpler, more intuitive\n",
    "- recursion may be efficient from programmer POV\n",
    "- recursion may not be efficient from computer POV"
   ]
  },
  {
   "cell_type": "markdown",
   "metadata": {},
   "source": [
    "## Inductive Reasoning\n",
    "- how do we know that our recursive code will work?\n",
    "- mult_iter terminates because b is initially positive, and decreases by 1 each time around loop; thus must eventually become less than 1\n",
    "- mult called with b=1 has no recursive call and stops\n",
    "- mult called with b>1 makes a recursive call with a smaller version of b; must eventually reach call with b =1"
   ]
  },
  {
   "cell_type": "markdown",
   "metadata": {},
   "source": [
    "## Mathematical Induction\n",
    "- to prove a statement indexed on integers is true for all values of n:\n",
    "    - prove it is true when n is smallest value (e.g. n=0 or n=1)\n",
    "    - then prove that if it is true for an arbitrary value of n, one can show that it must be true for n+1"
   ]
  },
  {
   "cell_type": "markdown",
   "metadata": {},
   "source": [
    "## Relevance to Code\n",
    "- same logic applies"
   ]
  },
  {
   "cell_type": "code",
   "execution_count": 8,
   "metadata": {},
   "outputs": [],
   "source": [
    "def mult(a,b):\n",
    "    if b == 1:\n",
    "        return a\n",
    "    else:\n",
    "        return a + mult(a,b-1)"
   ]
  },
  {
   "cell_type": "markdown",
   "metadata": {},
   "source": [
    "- base case, we can show that mult must return correct answer\n",
    "- for recursive case, we can assume that mult correctly returns an answer for problems of size smaller than b, then by the addition step, it must also return a correct answer for problem of size b\n",
    "- thus by induction, code correctly returns correct answer"
   ]
  },
  {
   "cell_type": "markdown",
   "metadata": {},
   "source": [
    "## Towers of Hanoi\n",
    "- the story:\n",
    "    - 3 tall spikes\n",
    "    - stacks of 64 different sized discs-- start on one spike\n",
    "    - need to move staack to second spike (at which point universe ends)\n",
    "    - can only move one disc at a time, and a larger disc can never cover up a small disc\n",
    "- having seen a set of examples of different sized stacks, how to write a program to print out the right set of moves?\n",
    "- **think recursively**\n",
    "    - solve a smaller problem\n",
    "    - solve a basic problem\n",
    "    - solve a smaller problem\n",
    "- basic idea: \n",
    "    - can move smaller towers of size n-1 to adjoining disc, move bottom largest disc to furthest tower, then place the smaller n-1 tower on top, and DONE!"
   ]
  },
  {
   "cell_type": "code",
   "execution_count": 9,
   "metadata": {},
   "outputs": [],
   "source": [
    "def printMove(fr, to):\n",
    "    print('move from ' + str(fr) + ' to ' + str(to))\n",
    "\n",
    "def Towers(n, fr, to, spare):\n",
    "    if n == 1:\n",
    "        printMove(fr, to) # if only one disc, just move the single disc and done\n",
    "    else:\n",
    "        Towers(n-1, fr, spare, to) # move upper chunk of tower\n",
    "        Towers(1, fr, to, spare) # move largest base\n",
    "        Towers(n-1, spare, to, fr) # put upper chunk on top of base"
   ]
  },
  {
   "cell_type": "markdown",
   "metadata": {},
   "source": [
    "## Recursion with Multiple base cases\n",
    "- Fibonacci numbers\n",
    "    - Leonardo of Pisa (aka Fibonacci) modeled the following challenge\n",
    "        - newborn pair of rabbits (one female, one male) are put in a pen\n",
    "        - rabbits mate at age of one month\n",
    "        - rabits have one month gestation period\n",
    "        - assume rabbits never die, that female always produces one new pair (one male, one female) every month from its second month on\n",
    "        - how many female rabbits are there at the end of one year?"
   ]
  },
  {
   "cell_type": "markdown",
   "metadata": {},
   "source": [
    "## Fibonacci\n",
    "- after one month (call it 0)- 1 female\n",
    "- after second month- still 1 female (now pregnant)\n",
    "- after third month - two females, one pregnant, one not\n",
    "- in general:\n",
    "    - females(n) = females(n-1) + females(n-2)\n",
    "    - every female alive at month n-2 will produce one female in month n\n",
    "    - thees can be added to those alive in month n-1 to get total alive in month n\n",
    "- base cases:\n",
    "    - females(0) = 1\n",
    "    - females(1) = 1\n",
    "- recursive case:\n",
    "    - females(n) = females(n-1) + females(n-2)"
   ]
  },
  {
   "cell_type": "code",
   "execution_count": 10,
   "metadata": {},
   "outputs": [],
   "source": [
    "def fib(x):\n",
    "    \"\"\"assumes x an int >= 0\n",
    "        returns Fibonacci of x\"\"\"\n",
    "    if x == 0 or x == 1:\n",
    "        return 1\n",
    "    else:\n",
    "        return fib(x-1) + fib(x-2)"
   ]
  },
  {
   "cell_type": "markdown",
   "metadata": {},
   "source": [
    "## Recursion on non-numerics\n",
    "- how to check if a string of characters is a palindrome, i.e. reads the same forwards and backwards\n",
    "    - \"Able was I, ere I saw Elba\" -- attributed to Napoleon\n",
    "    - \"Are we not drawn onward, we few, drawn onward to new era?\" -- Attributed to Anne Michaels"
   ]
  },
  {
   "cell_type": "markdown",
   "metadata": {},
   "source": [
    "## Solving recursively?\n",
    "- first, convert the string to just characters, by stripping out punctuation, and converting upper case to lower case\n",
    "- then\n",
    "    - base case: a string of length 0 or 1 is a palindrome\n",
    "    - recursive case:\n",
    "        - if first character matches last character, then is a palindrome if middle section is a palindrome"
   ]
  },
  {
   "cell_type": "code",
   "execution_count": 12,
   "metadata": {},
   "outputs": [],
   "source": [
    "def isPalindrome(s):\n",
    "    # first convert string to characters\n",
    "    def toChars(s):\n",
    "        s = s.lower()\n",
    "        ans = ''\n",
    "        for c in s:\n",
    "            if c in 'abcdefghijklmnopqrstuvwxyz':\n",
    "                ans = ans + c\n",
    "        return ans\n",
    "    \n",
    "    def isPal(s):\n",
    "            if len(s) <= 1:\n",
    "                return True\n",
    "            else:\n",
    "                return s[0] == s[-1] and isPal(s[1:-1])\n",
    "    return isPal(toChars(s))"
   ]
  },
  {
   "cell_type": "markdown",
   "metadata": {},
   "source": [
    "## Divide and Conquer\n",
    "- an example of a \"divide and conquer\" algorithm\n",
    "- solve a hard problem by breaking it into a set of sub-problems such that:\n",
    "    - sub-problems are easier to solve than the original\n",
    "    - solutions of the sub-problems can be combined to solve the original"
   ]
  },
  {
   "cell_type": "markdown",
   "metadata": {},
   "source": [
    "# Dictionaries"
   ]
  },
  {
   "cell_type": "markdown",
   "metadata": {},
   "source": [
    "## How to store student info\n",
    "- so far, can store using separate lists for every info\n",
    "    - names = ['Ana', 'John', 'Denise', 'Katy']\n",
    "    - grade = ['B', 'A+', 'A', 'A']\n",
    "    - course = [2.00, 6.0001, 20.002, 9.01]\n",
    "- a **separate list** for each item\n",
    "- each list must have the **same length**\n",
    "- info stored across lists at **same index**, each index refers to info for a different person"
   ]
  },
  {
   "cell_type": "markdown",
   "metadata": {},
   "source": [
    "## How to update/retrieve student info"
   ]
  },
  {
   "cell_type": "code",
   "execution_count": 13,
   "metadata": {},
   "outputs": [],
   "source": [
    "def get_grade(student, name_list, grade_list, course_list):\n",
    "    i = name_list.index(student)\n",
    "    grade = grade_list[i]\n",
    "    course = course_list[i]\n",
    "    return (course, grade)"
   ]
  },
  {
   "cell_type": "markdown",
   "metadata": {},
   "source": [
    "- **messy** if have a lot of different info to keep track of\n",
    "- must maintain **many lists** and pass them as arguments\n",
    "- must **always index** using integers\n",
    "- must remember to change multiple lists"
   ]
  },
  {
   "cell_type": "markdown",
   "metadata": {},
   "source": [
    "## A better and cleaner way- a dictionary\n",
    "- nice to **index item of interest directly** (not always int)\n",
    "- nice to use **one data structure**, no separate lists\n",
    "    - lists: index, element\n",
    "    - dictionaries: key, value"
   ]
  },
  {
   "cell_type": "markdown",
   "metadata": {},
   "source": [
    "## A Python dictionary\n",
    "- stores pairs of data\n",
    "    - key\n",
    "    - value"
   ]
  },
  {
   "cell_type": "code",
   "execution_count": 14,
   "metadata": {},
   "outputs": [],
   "source": [
    "my_dict = {}\n",
    "grades = {'Ana':'B', 'John':'A+', 'Denise':'A', 'Katy':'A'}"
   ]
  },
  {
   "cell_type": "markdown",
   "metadata": {},
   "source": [
    "## Dictionary lookup\n",
    "- similar to indexing a list\n",
    "- **looks up** the **key**\n",
    "- **returns** the **value** associated with the key\n",
    "- if key isn't found, get an error"
   ]
  },
  {
   "cell_type": "code",
   "execution_count": 15,
   "metadata": {},
   "outputs": [
    {
     "name": "stdout",
     "output_type": "stream",
     "text": [
      "A+\n"
     ]
    }
   ],
   "source": [
    "print(grades['John'])\n",
    "#print(grades['Sylvan']) # will give an error because key not in dict"
   ]
  },
  {
   "cell_type": "markdown",
   "metadata": {},
   "source": [
    "## Dictionary operations\n",
    "- **add** an entry\n",
    "    - grades['Sylvan'] = 'A'\n",
    "- **test** if key in dictionary\n",
    "    - 'John' in grades --> returns True\n",
    "    - 'Daniel' in grades --> returns False\n",
    "- **delete** entry\n",
    "    - del(grades['Ana'])\n",
    "- get an **iterable that acts like a tuple of all keys** (no guaranteed order)\n",
    "    - grades.keys() --> returns ['Denise', 'Katy', 'John', 'Ana']\n",
    "- get an **iterable that acts like a tuple of all values** (no guaranteed order)\n",
    "    - grades.values() --> returns ['A', 'A', 'A+', 'B']"
   ]
  },
  {
   "cell_type": "markdown",
   "metadata": {},
   "source": [
    "## Dictionary Keys and Values\n",
    "- values\n",
    "    - any type (immutable or mutable)\n",
    "    - can be **duplicates**\n",
    "    - dictionary values can be lists, or even other dictionaries\n",
    "- keys\n",
    "    - must be **unique**\n",
    "    - **immutable** type (inf, float, string, tuple, bool)\n",
    "        - actually need an object that is **hashable**, but think of immutable as all immutable types that are hashable\n",
    "        - careful wth float type as key\n",
    "- **no order** to keys or values!"
   ]
  },
  {
   "cell_type": "markdown",
   "metadata": {},
   "source": [
    "## List vs Dict\n",
    "- list\n",
    "    - **ordered** sequence of elements\n",
    "    - look up elements by an integer index\n",
    "    - indices have an **order**\n",
    "    - index is an **integer**\n",
    "- dictionary\n",
    "    - **matches** \"keys\" to \"values\"\n",
    "    - look up one item by another item\n",
    "    - **no order** is guaranteed\n",
    "    - key can be any **immutable** type"
   ]
  },
  {
   "cell_type": "markdown",
   "metadata": {},
   "source": [
    "## Fibonacci recursive code"
   ]
  },
  {
   "cell_type": "code",
   "execution_count": 16,
   "metadata": {},
   "outputs": [],
   "source": [
    "# inefficient Fibonacci\n",
    "def fib(n):\n",
    "    if n == 1:\n",
    "        return 1\n",
    "    elif n == 2:\n",
    "        return 2\n",
    "    else: \n",
    "        return fib(n-1) + fib(n-2)"
   ]
  },
  {
   "cell_type": "markdown",
   "metadata": {},
   "source": [
    "- two base cases\n",
    "- calls itself twice\n",
    "- this code is inefficient\n",
    "- **reclculating** the same values many times!\n",
    "- could **keep track** of already calculates values"
   ]
  },
  {
   "cell_type": "code",
   "execution_count": 17,
   "metadata": {},
   "outputs": [
    {
     "name": "stdout",
     "output_type": "stream",
     "text": [
      "13\n"
     ]
    }
   ],
   "source": [
    "# efficient Fibonacci with a dictionary\n",
    "def fib_efficient(n, d):\n",
    "    if n in d:\n",
    "        return d[n]\n",
    "    else:\n",
    "        # method sometimes called \"memoization\"\n",
    "        ans = fib_efficient(n-1,d) + fib_efficient(n-2, d)\n",
    "        d[n] = ans\n",
    "        return ans\n",
    "\n",
    "# set up base cases\n",
    "d = {1:1, 2:2}\n",
    "print(fib_efficient(6,d))"
   ]
  },
  {
   "cell_type": "markdown",
   "metadata": {},
   "source": [
    "- do a **lookup first** in case already calculated value\n",
    "- **modify dictionary** as progress through function calls"
   ]
  },
  {
   "cell_type": "markdown",
   "metadata": {},
   "source": [
    "## Efficiency Gains\n",
    "- calling fib(34) results in 11,405,773 calls to the procedure\n",
    "- calling fib_efficient(34) results in 65 recursive calls to the procedure\n",
    "- using dicts to capture intermediate results can be very efficient\n",
    "    - Note: this only works for procedures **without side effects** (i.e. the procedure will always produce the same result for a specific argument independent of any other computations between calls)"
   ]
  },
  {
   "cell_type": "code",
   "execution_count": null,
   "metadata": {},
   "outputs": [],
   "source": []
  }
 ],
 "metadata": {
  "kernelspec": {
   "display_name": "Python 3",
   "language": "python",
   "name": "python3"
  },
  "language_info": {
   "codemirror_mode": {
    "name": "ipython",
    "version": 3
   },
   "file_extension": ".py",
   "mimetype": "text/x-python",
   "name": "python",
   "nbconvert_exporter": "python",
   "pygments_lexer": "ipython3",
   "version": "3.7.6"
  }
 },
 "nbformat": 4,
 "nbformat_minor": 4
}
