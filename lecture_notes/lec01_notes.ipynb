{
 "cells": [
  {
   "cell_type": "markdown",
   "metadata": {},
   "source": [
    "# 6.0001 Lecture 1: What is Computation?"
   ]
  },
  {
   "cell_type": "markdown",
   "metadata": {},
   "source": [
    "**Speaker:** Dr. Ana Bell"
   ]
  },
  {
   "cell_type": "markdown",
   "metadata": {},
   "source": [
    "**Roadmap:**\n",
    "\n",
    "Problem Solving <--> Knowledge of Concepts <--> Programming Skill"
   ]
  },
  {
   "cell_type": "markdown",
   "metadata": {},
   "source": [
    "## Topics:\n",
    "\n",
    "- representing knowledge with **data structures**\n",
    "- **iteration and recursion** as computational metaphors\n",
    "- **abstraction** of procedures and data types\n",
    "- **organize and modularize** systems using object classes and methods\n",
    "- different classes of **algorithms**, searching and sorting\n",
    "- **complexity** of algorithms"
   ]
  },
  {
   "cell_type": "markdown",
   "metadata": {},
   "source": [
    "## What does a computer do?\n",
    "\n",
    "- Fundamentally:\n",
    "    - performs calculations... many per second\n",
    "    - remembers results... hundreds of gigs of storage!\n",
    "- What kinds of calculations?\n",
    "    - **built-in** to the language\n",
    "    - ones that **you define** as the programmer\n",
    "- Computers only know what you tell them"
   ]
  },
  {
   "cell_type": "markdown",
   "metadata": {},
   "source": [
    "## Types of Knowledge\n",
    "\n",
    "- **declarative knowledge** is statements of fact\n",
    "- **imperative knowledge** is a recipe or \"how-to\""
   ]
  },
  {
   "cell_type": "code",
   "execution_count": 1,
   "metadata": {},
   "outputs": [
    {
     "data": {
      "text/plain": [
       "118"
      ]
     },
     "execution_count": 1,
     "metadata": {},
     "output_type": "execute_result"
    }
   ],
   "source": [
    "# exercise: choose a random number\n",
    "import random\n",
    "\n",
    "random.randint(16, 272)"
   ]
  },
  {
   "cell_type": "markdown",
   "metadata": {},
   "source": [
    "## A Numerical Example\n",
    "\n",
    "- **declarative**: square root of a number $x$ is $y$ such that $y \\cdot y = x$.\n",
    "- **imperative**: recipe for deducing square root of a number $x$:\n",
    "    - start with a guess, $g$\n",
    "    - if $g\\cdot g$ is close enough to $x$, stop and say $g$ is the answer\n",
    "    - otherwise make a new guess by averaging $g$ and $\\frac{x}{g}$\n",
    "    - use the new guess, and repeat process until close enough"
   ]
  },
  {
   "cell_type": "markdown",
   "metadata": {},
   "source": [
    "## What is a recipe?\n",
    "\n",
    "- a sequence of simple **steps**\n",
    "- **flow of control** process that specifies when each step is executed\n",
    "- a means of determining **when to stop**\n",
    "\n",
    "$1 + 2 + 3 =$ an algorithm!"
   ]
  },
  {
   "cell_type": "markdown",
   "metadata": {},
   "source": [
    "## Computers are machines\n",
    "- how to capture a recipe in a mechanical process\n",
    "- **fixed program** computer\n",
    "    - calculator\n",
    "- **stored program** computer\n",
    "    - machine stores and executes instructions\n",
    "    - CPU is where these decisions are made"
   ]
  },
  {
   "cell_type": "markdown",
   "metadata": {},
   "source": [
    "## Basic machine architecture\n",
    "- input --> output\n",
    "- Memory\n",
    "    - stores data\n",
    "- Control Unit\n",
    "    - program counter\n",
    "    - receives instructions, then sends to ALU\n",
    "- Arithmetic logic unit (ALU)\n",
    "    - do primitive operations\n",
    "    - goes back, program counter increases by 1\n",
    "    - proceed to next instruction"
   ]
  },
  {
   "cell_type": "markdown",
   "metadata": {},
   "source": [
    "## Stored program computer\n",
    "- sequence of **instructions stored** inside computer\n",
    "    - built from predefined set of primitive instructions\n",
    "        1.) arithmetic and logic\n",
    "        2.) simple tests\n",
    "        3.) moving data\n",
    "- special program (interpreter) **executes each instruction in order**\n",
    "    - use tests to change flow of control through sequence\n",
    "    - stop when done"
   ]
  },
  {
   "cell_type": "markdown",
   "metadata": {},
   "source": [
    "## Basic primitives\n",
    "- Turing showed that you can **compute anything** using 6 primitives\n",
    "- modern programming languages have more convenient set of primitives\n",
    "- can abstract methods to **create new primitives**\n",
    "- anything computable in one language is computable in any other programming language"
   ]
  },
  {
   "cell_type": "markdown",
   "metadata": {},
   "source": [
    "## Creating Recipes\n",
    "- a programming language provides a set of primitive **operations**\n",
    "- **expressions** are complex but legal combinations of primitives in a programming language\n",
    "- expressions and computations have **values** and meanings in a programming language"
   ]
  },
  {
   "cell_type": "markdown",
   "metadata": {},
   "source": [
    "## Aspects of languages\n",
    "- **syntax**\n",
    "    - English: \"cat dog boy\" --> not syntactically valid\n",
    "               \"cat hugs boy\" --> syntactically valid\n",
    "   - programming language: \"hi\"5 --> not syntactically valid\n",
    "                           3.2$*$5 --? syntactically valid\n",
    "- **static semantics** is which syntactically valid strings have meaning\n",
    "    - English: \"I hungry\" --> syntactically valid but static semantic error\n",
    "    - programming language: 3 + \"hi\" --> static semantic error\n",
    "- **semantics** is the meaning associated with a syntactically correct string of symbols with no static semantic errors\n",
    "    - English: can have many meanings \"Flying planes can be dangerous\"\n",
    "    - programming languages: have only one meaning but may not be what programmer intended"
   ]
  },
  {
   "cell_type": "markdown",
   "metadata": {},
   "source": [
    "## Where things go wrong\n",
    "- **syntactic errors*\n",
    "    - common and easily caught\n",
    "- **static semantic errors**\n",
    "    - some languages check for these before running program\n",
    "    - can cause unpredictable behavior\n",
    "- no semantic errors but **different meanings than what programmer intended**\n",
    "    - program crashes, stops running\n",
    "    - program runs forever\n",
    "    - program gives an answer but different than expected"
   ]
  },
  {
   "cell_type": "markdown",
   "metadata": {},
   "source": [
    "## Python programs\n",
    "- a **program** is a sequence of definitions and commands\n",
    "    - definitions **evaluated**\n",
    "    - commands **executed** by Python interpreter in a shell\n",
    "- **commands** (statements) instruct interpreter to do something\n",
    "- can be typed directly in a **shell** or stored in a **file** that is read into the shell and evaluated\n",
    "    - Pset 0 introduces us to these in Anaconda"
   ]
  },
  {
   "cell_type": "markdown",
   "metadata": {},
   "source": [
    "## Objects\n",
    "- programs manipulate **data objects**\n",
    "- objects have a **type** that defines the kinds of things programs can do to them\n",
    "- objects are \n",
    "    - scalar (cannot be subdivided)\n",
    "    - non-scalar (have internal structure that can be accessed)"
   ]
  },
  {
   "cell_type": "markdown",
   "metadata": {},
   "source": [
    "## Scalar objects\n",
    "- int - represents **integers**, ex. 5\n",
    "- float - represents **real numbers**, ex. 3.27\n",
    "- bool - represent **Boolean** values True and False\n",
    "- NoneType - **special** and has one value, None\n",
    "- can use Type() to see the type of an object"
   ]
  },
  {
   "cell_type": "code",
   "execution_count": 2,
   "metadata": {},
   "outputs": [
    {
     "data": {
      "text/plain": [
       "int"
      ]
     },
     "execution_count": 2,
     "metadata": {},
     "output_type": "execute_result"
    }
   ],
   "source": [
    "type(5)"
   ]
  },
  {
   "cell_type": "code",
   "execution_count": 3,
   "metadata": {},
   "outputs": [
    {
     "data": {
      "text/plain": [
       "float"
      ]
     },
     "execution_count": 3,
     "metadata": {},
     "output_type": "execute_result"
    }
   ],
   "source": [
    "type(3.0)"
   ]
  },
  {
   "cell_type": "markdown",
   "metadata": {},
   "source": [
    "## Type Conversions (cast)\n",
    "- can **convert object of one type to another**\n",
    "- float(3) converts integer 3 to float 3.0\n",
    "- int(3.9) truncates float 3.9 to integer 3\n",
    "    - note: this does NOT **round** 3.9 to 4!"
   ]
  },
  {
   "cell_type": "markdown",
   "metadata": {},
   "source": [
    "## Printing to console\n",
    "- to show output from code to a user, use print command\n",
    "    - note that in a Jupyter notebook, there doesn't seem to be a difference (see below)"
   ]
  },
  {
   "cell_type": "code",
   "execution_count": 4,
   "metadata": {},
   "outputs": [
    {
     "data": {
      "text/plain": [
       "5"
      ]
     },
     "execution_count": 4,
     "metadata": {},
     "output_type": "execute_result"
    }
   ],
   "source": [
    "# simply do the computation\n",
    "3+2"
   ]
  },
  {
   "cell_type": "code",
   "execution_count": 5,
   "metadata": {},
   "outputs": [
    {
     "name": "stdout",
     "output_type": "stream",
     "text": [
      "5\n"
     ]
    }
   ],
   "source": [
    "# print out the result\n",
    "print(3+2)"
   ]
  },
  {
   "cell_type": "markdown",
   "metadata": {},
   "source": [
    "## Expressions\n",
    "- **combine objects and operators** to form expressions\n",
    "- an expression has a **value**, which has a type\n",
    "- syntax for a simple expression:\n",
    "        <object><operator><object>"
   ]
  },
  {
   "cell_type": "markdown",
   "metadata": {},
   "source": [
    "## Operators on ints and floats\n",
    "- i + j --> the **sum** \n",
    "- i - j --> the **difference**\n",
    "- i $*$ j --> the **product**\n",
    "\n",
    "**[Note: for the three above, if both are ints then result is int. If either or both are floats, then result is a float.]**\n",
    "\n",
    "- i / j --> the **quotient** (result is a float)\n",
    "- i % j --> the **remainder** when i is divided by j\n",
    "- i ** j --> i to the **power** of j"
   ]
  },
  {
   "cell_type": "markdown",
   "metadata": {},
   "source": [
    "## Simple operations\n",
    "- parentheses are used to tell Python to do these operations first\n",
    "- **operator precedence** without parentheses\n",
    "    - **\n",
    "    - *\n",
    "    - /\n",
    "    - (+) and (-) execited left to right, as appear in expression"
   ]
  },
  {
   "cell_type": "markdown",
   "metadata": {},
   "source": [
    "## Binding variables and values\n",
    "- equal sign is an **assignment** of a value to a variable name\n",
    "    - variable = value\n",
    "    - pi = 3.14159\n",
    "    - pi_approx = 22/7\n",
    "- value stored in computer memory\n",
    "- an assignment binds name to value\n",
    "- retrieve value associated by name or variable by invoking the name, by typing \"pi\""
   ]
  },
  {
   "cell_type": "code",
   "execution_count": 6,
   "metadata": {},
   "outputs": [
    {
     "data": {
      "text/plain": [
       "3.14159"
      ]
     },
     "execution_count": 6,
     "metadata": {},
     "output_type": "execute_result"
    }
   ],
   "source": [
    "pi = 3.14159\n",
    "pi"
   ]
  },
  {
   "cell_type": "markdown",
   "metadata": {},
   "source": [
    "## Abstracting Expressions\n",
    "- why **give names** to values of expressions?\n",
    "- to **reuse names** instead of values\n",
    "- easier to change code later"
   ]
  },
  {
   "cell_type": "markdown",
   "metadata": {},
   "source": [
    "## Programming vs Math\n",
    "- in programming, you do not \"solve for $x$\""
   ]
  },
  {
   "cell_type": "code",
   "execution_count": 7,
   "metadata": {},
   "outputs": [],
   "source": [
    "pi = 3.14159\n",
    "radius = 2.2\n",
    "# area of a circle\n",
    "area = pi*(radius**2)\n",
    "radius = radius + 1"
   ]
  },
  {
   "cell_type": "markdown",
   "metadata": {},
   "source": [
    "- an assignment\n",
    "    - expression on the right, evaluated to a value\n",
    "    - variable name on the left"
   ]
  },
  {
   "cell_type": "markdown",
   "metadata": {},
   "source": [
    "## Changing bindings\n",
    "- can **re-bind** variable names using new assignment statements\n",
    "- previous value may still be stored in memory but lost the handle for it\n",
    "- value area does not change until you tell the computer to do the calculation again"
   ]
  },
  {
   "cell_type": "code",
   "execution_count": 8,
   "metadata": {},
   "outputs": [
    {
     "name": "stdout",
     "output_type": "stream",
     "text": [
      "15.205295600000001\n",
      "3.2\n"
     ]
    }
   ],
   "source": [
    "# notice value of area did not change ...\n",
    "print(area)\n",
    "print(radius)"
   ]
  },
  {
   "cell_type": "code",
   "execution_count": 9,
   "metadata": {},
   "outputs": [
    {
     "name": "stdout",
     "output_type": "stream",
     "text": [
      "32.169881600000004\n"
     ]
    }
   ],
   "source": [
    "# ...until we redefine it.\n",
    "area = pi*(radius**2)\n",
    "print(area)"
   ]
  },
  {
   "cell_type": "code",
   "execution_count": null,
   "metadata": {},
   "outputs": [],
   "source": []
  }
 ],
 "metadata": {
  "kernelspec": {
   "display_name": "Python 3",
   "language": "python",
   "name": "python3"
  },
  "language_info": {
   "codemirror_mode": {
    "name": "ipython",
    "version": 3
   },
   "file_extension": ".py",
   "mimetype": "text/x-python",
   "name": "python",
   "nbconvert_exporter": "python",
   "pygments_lexer": "ipython3",
   "version": "3.7.6"
  }
 },
 "nbformat": 4,
 "nbformat_minor": 4
}
