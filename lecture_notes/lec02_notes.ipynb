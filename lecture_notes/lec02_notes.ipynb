{
 "cells": [
  {
   "cell_type": "markdown",
   "metadata": {},
   "source": [
    "# 6.0001 Lecture 2: Branching and Iteration"
   ]
  },
  {
   "cell_type": "markdown",
   "metadata": {},
   "source": [
    "**Speaker**: Dr. Ana Bell"
   ]
  },
  {
   "cell_type": "markdown",
   "metadata": {},
   "source": [
    "## Main takeaways from last time:\n",
    "- computer only does what it is told\n",
    "- simple objects\n",
    "    - ints\n",
    "    - floats\n",
    "    - bools"
   ]
  },
  {
   "cell_type": "markdown",
   "metadata": {},
   "source": [
    "## Today:\n",
    "- string object type\n",
    "- branching and conditionals\n",
    "- indentation\n",
    "- iteration and loops"
   ]
  },
  {
   "cell_type": "markdown",
   "metadata": {},
   "source": [
    "## Strings\n",
    "- sequences of characters\n",
    "- letters, special characters, spaces, digits\n",
    "- enclose in **quotation marks** or **single quotes**"
   ]
  },
  {
   "cell_type": "code",
   "execution_count": 1,
   "metadata": {},
   "outputs": [],
   "source": [
    "hi = \"hello there\""
   ]
  },
  {
   "cell_type": "markdown",
   "metadata": {},
   "source": [
    "- **concatenate** strings"
   ]
  },
  {
   "cell_type": "code",
   "execution_count": 2,
   "metadata": {},
   "outputs": [
    {
     "name": "stdout",
     "output_type": "stream",
     "text": [
      "hello there ana\n"
     ]
    }
   ],
   "source": [
    "name = \"ana\"\n",
    "greet = hi + name\n",
    "greeting = hi + \" \" + name\n",
    "print(greeting)"
   ]
  },
  {
   "cell_type": "markdown",
   "metadata": {},
   "source": [
    "- do some **operations** on a string as defined in Python docs"
   ]
  },
  {
   "cell_type": "code",
   "execution_count": 3,
   "metadata": {},
   "outputs": [
    {
     "name": "stdout",
     "output_type": "stream",
     "text": [
      "hello there anaanaana\n"
     ]
    }
   ],
   "source": [
    "silly = hi + \" \" + name*3\n",
    "print(silly)"
   ]
  },
  {
   "cell_type": "markdown",
   "metadata": {},
   "source": [
    "## INPUT/OUTPUT: print\n",
    "- used to **output** stuff to console\n",
    "- keyword is print"
   ]
  },
  {
   "cell_type": "code",
   "execution_count": 4,
   "metadata": {},
   "outputs": [
    {
     "name": "stdout",
     "output_type": "stream",
     "text": [
      "1\n",
      "my fav num is 1 . x = 1\n",
      "my fav num is 1. x = 1\n"
     ]
    }
   ],
   "source": [
    "x = 1\n",
    "print(x)\n",
    "# cast the int 1 to a string\n",
    "x_str = str(x)\n",
    "# can use commas and Python automatically inserts spaces for you\n",
    "print(\"my fav num is\", x, \".\", \"x =\", x)\n",
    "# can also use + but need to be carefeul to include spaces\n",
    "print(\"my fav num is \" + x_str + \". \" + \"x = \" + x_str)"
   ]
  },
  {
   "cell_type": "markdown",
   "metadata": {},
   "source": [
    "## INPUT/OUTPUT: input(\"\")\n",
    "- how to get input from the user\n",
    "- prints whatever is in the quotes\n",
    "- uses types in something and hits enter\n",
    "- binds that value to a variable"
   ]
  },
  {
   "cell_type": "code",
   "execution_count": 5,
   "metadata": {},
   "outputs": [
    {
     "name": "stdout",
     "output_type": "stream",
     "text": [
      "Type anything... hello\n",
      "hellohellohellohellohello\n"
     ]
    }
   ],
   "source": [
    "text = input(\"Type anything... \")\n",
    "print(5*text)"
   ]
  },
  {
   "cell_type": "markdown",
   "metadata": {},
   "source": [
    "- input **gives you a string** so must cast if working with numbers"
   ]
  },
  {
   "cell_type": "code",
   "execution_count": 6,
   "metadata": {},
   "outputs": [
    {
     "name": "stdout",
     "output_type": "stream",
     "text": [
      "Type a number... 5\n",
      "25\n"
     ]
    }
   ],
   "source": [
    "num = int(input(\"Type a number... \"))\n",
    "print(5*num)"
   ]
  },
  {
   "cell_type": "markdown",
   "metadata": {},
   "source": [
    "## Comparison operators on int, float, string\n",
    "- i and j are variable names\n",
    "- comparisons below evaluate to a Boolean\n",
    "\n",
    "i > j\n",
    "\n",
    "i >= j\n",
    "\n",
    "i < j\n",
    "\n",
    "i <= j\n",
    "\n",
    "i == j --> **equality** test, True if i is the same as j\n",
    "\n",
    "i != j --> **inequality** test, True if i not the same as j"
   ]
  },
  {
   "cell_type": "markdown",
   "metadata": {},
   "source": [
    "## Logic operators on bools\n",
    "- a and b are variable names (with boolean values)\n",
    "\n",
    "not a --> True if a is False, False if a is True\n",
    "\n",
    "a and b --> True if both are True\n",
    "\n",
    "a or b --> True if either or both are True"
   ]
  },
  {
   "cell_type": "code",
   "execution_count": 7,
   "metadata": {},
   "outputs": [
    {
     "name": "stdout",
     "output_type": "stream",
     "text": [
      "True\n",
      "True\n"
     ]
    }
   ],
   "source": [
    "# both true\n",
    "a = True\n",
    "b = True\n",
    "\n",
    "print(a and b)\n",
    "print(a or b)"
   ]
  },
  {
   "cell_type": "code",
   "execution_count": 8,
   "metadata": {},
   "outputs": [
    {
     "name": "stdout",
     "output_type": "stream",
     "text": [
      "False\n",
      "True\n"
     ]
    }
   ],
   "source": [
    "# one true, one false\n",
    "a = True\n",
    "b = False\n",
    "\n",
    "print(a and b)\n",
    "print(a or b)"
   ]
  },
  {
   "cell_type": "code",
   "execution_count": 9,
   "metadata": {},
   "outputs": [
    {
     "name": "stdout",
     "output_type": "stream",
     "text": [
      "False\n",
      "False\n"
     ]
    }
   ],
   "source": [
    "# both false\n",
    "a = False\n",
    "b = False\n",
    "\n",
    "print(a and b)\n",
    "print(a or b)"
   ]
  },
  {
   "cell_type": "code",
   "execution_count": 10,
   "metadata": {},
   "outputs": [
    {
     "name": "stdout",
     "output_type": "stream",
     "text": [
      "False\n",
      "True\n"
     ]
    }
   ],
   "source": [
    "# Not operator\n",
    "a = True\n",
    "b = False\n",
    "\n",
    "print(not a)\n",
    "print(not b)"
   ]
  },
  {
   "cell_type": "markdown",
   "metadata": {},
   "source": [
    "**comparing strings**"
   ]
  },
  {
   "cell_type": "code",
   "execution_count": 11,
   "metadata": {},
   "outputs": [
    {
     "name": "stdout",
     "output_type": "stream",
     "text": [
      "False\n"
     ]
    }
   ],
   "source": [
    "print('a' > 'b')\n",
    "# false because a comes earlier in alphabet than b"
   ]
  },
  {
   "cell_type": "markdown",
   "metadata": {},
   "source": [
    "## Comparison Example"
   ]
  },
  {
   "cell_type": "code",
   "execution_count": 12,
   "metadata": {},
   "outputs": [
    {
     "name": "stdout",
     "output_type": "stream",
     "text": [
      "False\n",
      "False\n"
     ]
    }
   ],
   "source": [
    "pset_time = 15\n",
    "sleep_time = 8\n",
    "print(sleep_time > pset_time)\n",
    "\n",
    "derive = True\n",
    "drink = False\n",
    "both = drink and derive\n",
    "print(both)"
   ]
  },
  {
   "cell_type": "markdown",
   "metadata": {},
   "source": [
    "## Control Flow - Branching\n",
    "    if [condition]:\n",
    "\n",
    "        [expression]\n",
    "\n",
    "        [expression]\n",
    "        ...\n",
    "    elif [condition]:\n",
    "\n",
    "        [expression]\n",
    "\n",
    "        [expression]\n",
    "        ...\n",
    "    else:\n",
    "\n",
    "        [expression]\n",
    "\n",
    "        [expression]\n",
    "\n",
    "- [condition] has a value True or False\n",
    "- evaluate expressions in that block if [condition] is True"
   ]
  },
  {
   "cell_type": "markdown",
   "metadata": {},
   "source": [
    "## Indentation\n",
    "- matters in Python\n",
    "- how you denote blocks of code"
   ]
  },
  {
   "cell_type": "code",
   "execution_count": 13,
   "metadata": {},
   "outputs": [
    {
     "name": "stdout",
     "output_type": "stream",
     "text": [
      "Enter a number for x: 2\n",
      "Enter a number for y: 4\n",
      "x is smaller\n",
      "thanks!\n"
     ]
    }
   ],
   "source": [
    "x = float(input(\"Enter a number for x: \"))\n",
    "y = float(input(\"Enter a number for y: \"))\n",
    "\n",
    "# here we would get a SyntaxError if we put x = y instead of x == y\n",
    "if x == y:\n",
    "    print(\"x and y are equal!\")\n",
    "    # this inner if is only checked if we have already entered the above if condition\n",
    "    if y != 0:\n",
    "        print(\"therefore, x / y is:\", x/y)\n",
    "elif x < y:\n",
    "    print(\"x is smaller\")\n",
    "else:\n",
    "    print(\"y is smaller\")\n",
    "print(\"thanks!\")"
   ]
  },
  {
   "cell_type": "markdown",
   "metadata": {},
   "source": [
    "## Control Flow: while Loops\n",
    "\n",
    "    while [condition]:\n",
    "\n",
    "        [expression]\n",
    "\n",
    "        [expression]\n",
    "    \n",
    "        ...\n",
    "- [condition] evaluates to a Boolean\n",
    "- if [condition] is True, do all the steps inside while code block\n",
    "- check [condition] again\n",
    "- repeat until [condition] is False"
   ]
  },
  {
   "cell_type": "code",
   "execution_count": 14,
   "metadata": {},
   "outputs": [
    {
     "name": "stdout",
     "output_type": "stream",
     "text": [
      "You're in the Lost Forest. Go left or right? right\n",
      "You're in the Lost Forest. Go left or right? right\n",
      "You're in the Lost Forest. Go left or right? left\n",
      "You got out of the Lost Forest!\n"
     ]
    }
   ],
   "source": [
    "# example program / game\n",
    "n = input(\"You're in the Lost Forest. Go left or right? \")\n",
    "while n == \"right\":\n",
    "    n = input(\"You're in the Lost Forest. Go left or right? \")\n",
    "print(\"You got out of the Lost Forest!\")"
   ]
  },
  {
   "cell_type": "markdown",
   "metadata": {},
   "source": [
    "## Control Flow: while and for Loops\n",
    "- iterate through numbers in a sequence"
   ]
  },
  {
   "cell_type": "code",
   "execution_count": 15,
   "metadata": {},
   "outputs": [
    {
     "name": "stdout",
     "output_type": "stream",
     "text": [
      "0\n",
      "1\n",
      "2\n",
      "3\n",
      "4\n"
     ]
    }
   ],
   "source": [
    "# more complicated with while loop\n",
    "n = 0\n",
    "while n < 5:\n",
    "    print(n)\n",
    "    n += 1 # if we didn't increment n, we would have an infinite loop"
   ]
  },
  {
   "cell_type": "code",
   "execution_count": 16,
   "metadata": {},
   "outputs": [
    {
     "name": "stdout",
     "output_type": "stream",
     "text": [
      "0\n",
      "1\n",
      "2\n",
      "3\n",
      "4\n"
     ]
    }
   ],
   "source": [
    "# shortcut with for loop\n",
    "for n in range(5):\n",
    "    print(n) # no need to increment n"
   ]
  },
  {
   "cell_type": "markdown",
   "metadata": {},
   "source": [
    "## Control Flow: for Loops\n",
    "\n",
    "    for [variable] in range ([some_num]):\n",
    "\n",
    "        [expression]\n",
    "\n",
    "        [expression]\n",
    "- each time through the loop, [variable] takes a value\n",
    "- first time, [variable] starts at the smallest value\n",
    "- next time, [variable] gets the previous value + 1\n",
    "- etc."
   ]
  },
  {
   "cell_type": "markdown",
   "metadata": {},
   "source": [
    "## range (start, stop, step)\n",
    "- default values are start = 0 and step = 1 and optional\n",
    "- loop until value is stop - 1"
   ]
  },
  {
   "cell_type": "code",
   "execution_count": 19,
   "metadata": {},
   "outputs": [
    {
     "name": "stdout",
     "output_type": "stream",
     "text": [
      "24\n",
      "3\n"
     ]
    }
   ],
   "source": [
    "mysum = 0\n",
    "for i in range(7, 10): # default step size is 1\n",
    "    mysum += i\n",
    "print(mysum)\n",
    "\n",
    "mysum = 0\n",
    "for i in range(5, 11, 2): # go every other number\n",
    "    mysum += 1\n",
    "print(mysum)"
   ]
  },
  {
   "cell_type": "markdown",
   "metadata": {},
   "source": [
    "## break Statement\n",
    "- immediately exits whatever loop it is in\n",
    "- skip remaining expressions in code block\n",
    "- exits only innermost loop!\n",
    "\n",
    "        while [condition_1]:\n",
    "\n",
    "            while [condition_2]:\n",
    "\n",
    "                [expression_a]\n",
    "\n",
    "                break\n",
    "\n",
    "                [expression_b]\n",
    "\n",
    "            [expression_c]"
   ]
  },
  {
   "cell_type": "code",
   "execution_count": 20,
   "metadata": {},
   "outputs": [
    {
     "name": "stdout",
     "output_type": "stream",
     "text": [
      "5\n"
     ]
    }
   ],
   "source": [
    "mysum = 0\n",
    "for i in range(5, 11, 2):\n",
    "    mysum += i\n",
    "    if mysum == 5:\n",
    "        break\n",
    "        mysum += 1\n",
    "print(mysum)\n",
    "# what happens? the loop breaks after the first number, because 0 + 5 = 5"
   ]
  },
  {
   "cell_type": "markdown",
   "metadata": {},
   "source": [
    "## for vs while Loops\n",
    "- for loops\n",
    "    - **know** number of iterations\n",
    "    - can **end early** via break\n",
    "    - uses a **counter**\n",
    "    - **can rewrite** a for loop using a while loop\n",
    "- while loops\n",
    "    - **unbounded** number of iterations\n",
    "    - can **end early** via break\n",
    "    - can use a **counter, but must initialize** before loop and increment it inside loop\n",
    "    - **may NOT be able to rewrite** a while loop using a for loop"
   ]
  },
  {
   "cell_type": "code",
   "execution_count": null,
   "metadata": {},
   "outputs": [],
   "source": []
  }
 ],
 "metadata": {
  "kernelspec": {
   "display_name": "Python 3",
   "language": "python",
   "name": "python3"
  },
  "language_info": {
   "codemirror_mode": {
    "name": "ipython",
    "version": 3
   },
   "file_extension": ".py",
   "mimetype": "text/x-python",
   "name": "python",
   "nbconvert_exporter": "python",
   "pygments_lexer": "ipython3",
   "version": "3.7.6"
  }
 },
 "nbformat": 4,
 "nbformat_minor": 4
}
