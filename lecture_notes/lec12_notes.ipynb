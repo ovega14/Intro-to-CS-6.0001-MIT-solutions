{
 "cells": [
  {
   "cell_type": "markdown",
   "metadata": {},
   "source": [
    "# 6.0001 Lecture 12: Searching and Sorting"
   ]
  },
  {
   "cell_type": "markdown",
   "metadata": {},
   "source": [
    "**Speaker:** Prof. Eric Grimson"
   ]
  },
  {
   "cell_type": "markdown",
   "metadata": {},
   "source": [
    "## Search Algorithms\n",
    "- **search algorithm** - method for finding an item or group of items with specific properties within a collection of items\n",
    "- collection could be implicit\n",
    "    - example - find square root as a search problem\n",
    "        - exhaustive enumeration\n",
    "        - bisection search\n",
    "        - Newton-Raphson\n",
    "- collection could be explicit\n",
    "    - example - is a student record in a stored collection of data?"
   ]
  },
  {
   "cell_type": "markdown",
   "metadata": {},
   "source": [
    "## Searching Algorithms\n",
    "- linear search\n",
    "    - **brute force** search (a.k.a. British Museum algo)\n",
    "    - list does not have to be sorted\n",
    "- bisection search\n",
    "    - list **MUST be sorted** to give correct answer\n",
    "    - saw two different imlementations of the algorithm"
   ]
  },
  {
   "cell_type": "markdown",
   "metadata": {},
   "source": [
    "## Linear Search on **UNSORTED** list: recap"
   ]
  },
  {
   "cell_type": "code",
   "execution_count": 2,
   "metadata": {},
   "outputs": [],
   "source": [
    "def linear_search(L, e):\n",
    "    found = False\n",
    "    for i in range(len(L)):\n",
    "        if e == L[i]:\n",
    "            found = True # speed up a little by returning True here, but speed up doesn't impact worst case\n",
    "    return found"
   ]
  },
  {
   "cell_type": "markdown",
   "metadata": {},
   "source": [
    "- must look through all elements to decide if it's not there\n",
    "- $O(\\textrm{len(L)})$ for the loop * $O(1)$ to test if e == L[i]\n",
    "    - assumes we can retrieve element of list in constant time\n",
    "- overall complexity is $O(n)$ where $n$ is len(L)"
   ]
  },
  {
   "cell_type": "markdown",
   "metadata": {},
   "source": [
    "Lineae Search on **SORTED** list: recap"
   ]
  },
  {
   "cell_type": "code",
   "execution_count": 3,
   "metadata": {},
   "outputs": [],
   "source": [
    "def search(L, e):\n",
    "    for i in range(len(L)):\n",
    "        if L[i] == e:\n",
    "            return True\n",
    "        if L[i] > e:\n",
    "            return False\n",
    "    return False"
   ]
  },
  {
   "cell_type": "markdown",
   "metadata": {},
   "source": [
    "- must only look until reach a number greater than e\n",
    "- $O(\\textrm{len(L)})$ for the loop * $O(1)$ to test if e == L[i]\n",
    "- overall complexity is $O(n)$ where $n$ is len(L)"
   ]
  },
  {
   "cell_type": "markdown",
   "metadata": {},
   "source": [
    "## Bisection search: recap\n",
    "- steps:\n",
    "    - pick an index, i, that divides list in half\n",
    "    - ask if L[i] == e\n",
    "    - if not, ask if L[i] is larger or smaller than e\n",
    "    - depending on answer, search left or right half of L for e\n",
    "- a new version of a divide-and-conquer algorithm\n",
    "    - break into smaller version of problem (smaller list), plus some simple operations\n",
    "    - answer to smaller version is answer to original problem"
   ]
  },
  {
   "cell_type": "code",
   "execution_count": 5,
   "metadata": {},
   "outputs": [],
   "source": [
    "# bisection search implementation\n",
    "def bisect_search2(L, e):\n",
    "    def bisect_search_helper(L, e, low, high):\n",
    "        if high == low: # list of single element; only check if that element is e\n",
    "            return L[low] == e\n",
    "        mid = (low + high)//2\n",
    "        if L[mid] == e:\n",
    "            return True\n",
    "        elif L[mid] > e:\n",
    "            if low == mid: # nothing left to search\n",
    "                return False\n",
    "            else:\n",
    "                return bisect_search_helper(L, e, low, mid-1)\n",
    "        else:\n",
    "            return bisect_search_helper(L, e, mid+1, high)\n",
    "        if len(L) == 0: # empty list; nothing to search\n",
    "            return False\n",
    "        else:\n",
    "            return bisect_search_helper(L, e, 0, len(L)-1)"
   ]
  },
  {
   "cell_type": "markdown",
   "metadata": {},
   "source": [
    "## Complexity of Bisection Search: recap\n",
    "- **bisect_search2** and its helper\n",
    "    - $O(\\log{n})$ bisection search calls\n",
    "        - reduces size of problem by factor of 2 on each step\n",
    "    - pass list and indices as parameters\n",
    "    - list never copied, just re-passed as pointer\n",
    "    - constant work inside function\n",
    "    - --> **$O(\\log{n})$**"
   ]
  },
  {
   "cell_type": "markdown",
   "metadata": {},
   "source": [
    "## Searching a sorted list -- $n$ is len(L)\n",
    "- using **linear search**, search for an element is **$O(n)$**\n",
    "- using **binary search**, can search for an element in $O(\\log{n})$\n",
    "    - assumes the list is **sorted**!\n",
    "- when does it make sense to **sort first then search**?\n",
    "    - SORT + $O(\\log{n}) < O(n)$ --> SORT $< O(n) - O(\\log{n})$\n",
    "    - when sorting is less than $O(n)$\n",
    "- **NEVER TRUE**!\n",
    "    - to sort a collection of n elements, must look at each one at least once!"
   ]
  },
  {
   "cell_type": "markdown",
   "metadata": {},
   "source": [
    "## Amortized cost -- $n$ is len(L)\n",
    "- why bother sorting first?\n",
    "- in some cases, may **sort a list once** then do **many searches**\n",
    "- **AMORTIZE cost** of the sort over many searches\n",
    "- SORT + $K \\cdot O(\\log{n})<K\\cdot O(n)$\n",
    "    - for large $K$, **SORT time becomes irrelevant,** if cost of sorting is small enough"
   ]
  },
  {
   "cell_type": "markdown",
   "metadata": {},
   "source": [
    "## Sort Algorithms\n",
    "- want to efficiently sort a list of entries (typically numbers)\n",
    "- Will see a range of methods, including one that is quite efficient"
   ]
  },
  {
   "cell_type": "markdown",
   "metadata": {},
   "source": [
    "## Monkey sort\n",
    "- a.k.a. bogosort, stupid sort, slowsort, permutation sort, shotgun sort\n",
    "- to sort a deck of cards\n",
    "    - throw then in the air\n",
    "    - pick them up\n",
    "    - are they sorted?\n",
    "    - repeat if not sorted"
   ]
  },
  {
   "cell_type": "markdown",
   "metadata": {},
   "source": [
    "## Complexity of Bogo Sort"
   ]
  },
  {
   "cell_type": "code",
   "execution_count": 6,
   "metadata": {},
   "outputs": [],
   "source": [
    "def bogo_sort(L):\n",
    "    while not is_sorted(L):\n",
    "        random.shuffle(L)"
   ]
  },
  {
   "cell_type": "markdown",
   "metadata": {},
   "source": [
    "- best case: $O(n)$ where $n$ is len(L) to check if sorted\n",
    "- worst case: $O(?)$ it is **unbounded** if really unlucky"
   ]
  },
  {
   "cell_type": "markdown",
   "metadata": {},
   "source": [
    "## Bubble sort\n",
    "- **compare consecutive pairs** of elements\n",
    "- **swap elements** in pairs such that smaller is first\n",
    "- when reach end of list, **start over** again\n",
    "- stop when **no more swaps** have been made\n",
    "- largest unsorted element always at end after pass, so at most $n$ passes"
   ]
  },
  {
   "cell_type": "markdown",
   "metadata": {},
   "source": [
    "## Complexity of Bubble Sort"
   ]
  },
  {
   "cell_type": "code",
   "execution_count": 7,
   "metadata": {},
   "outputs": [],
   "source": [
    "def bubble_sort(L):\n",
    "    swap = False\n",
    "    while not swap: # O(len(L))\n",
    "        swap = True\n",
    "        for j in range(1, len(L)): # O(len(L))\n",
    "            if L[j-1] > L[j]:\n",
    "                swap = False\n",
    "                temp = L[j]\n",
    "                L[j] = L[j-1]\n",
    "                L[j-1] = temp"
   ]
  },
  {
   "cell_type": "markdown",
   "metadata": {},
   "source": [
    "- inner *for* loop is for doing the **comparisons**\n",
    "- outer *while* loop is for doing **multiple passes** until no more swaps\n",
    "- **$O(n^2)$ where $n$ is len(L)** to do len(L)-1 comparisons and len(L)-1"
   ]
  },
  {
   "cell_type": "markdown",
   "metadata": {},
   "source": [
    "## Selection sort\n",
    "- first step\n",
    "    - extract **minimum element**\n",
    "    - **swap it** with element at **index 0**\n",
    "- subsequent step\n",
    "    - in remaining sublist, extract **minimum element**\n",
    "    - **swap it** with the element at **index 1**\n",
    "- keep the left portion of the list sorted\n",
    "    - at i'th step, **first i elements in list are sorted**\n",
    "    - all other elements are bigger than first i elements"
   ]
  },
  {
   "cell_type": "markdown",
   "metadata": {},
   "source": [
    "## Analyzing selection sort\n",
    "- loop invariant\n",
    "    - given prefix of list L[0:i] and suffix L[i+1:len(L)], then prefix is sorted and no element in prefix is larger than the smallest element of suffix\n",
    "        - base case: prefix empty, suffix whole list -- invariant true\n",
    "        - induction step: move minimum element from suffix to end of prefix. Since invariant true before move, prefix sorted after append\n",
    "        - when exit, prefix is entire list, suffix empty, so sorted"
   ]
  },
  {
   "cell_type": "markdown",
   "metadata": {},
   "source": [
    "## Complexity of selection sort"
   ]
  },
  {
   "cell_type": "code",
   "execution_count": 8,
   "metadata": {},
   "outputs": [],
   "source": [
    "def selection_sort(L):\n",
    "    suffixSt = 0\n",
    "    while suffixSt != len(L): # len(L) times --> O(len(L))\n",
    "        for i in range(suffixSt, len(L)):\n",
    "            if L[i] < L[suffixSt]: # len(L) - suffixSt times --> O(len(L))\n",
    "                L[suffixSt], L[i] = L[i], L[suffixSt]\n",
    "        suffixSt += 1"
   ]
  },
  {
   "cell_type": "markdown",
   "metadata": {},
   "source": [
    "- outer loop executes len(L) times\n",
    "- inner loop executes len(L) - i times\n",
    "- complexity of selection sort is $O(n^2)$ where $n$ is len(L)"
   ]
  },
  {
   "cell_type": "markdown",
   "metadata": {},
   "source": [
    "## Merge sort\n",
    "- use a divide-and-conquer approach:\n",
    "    - if list of length 0 or 1, already sorted\n",
    "    - if list has more than one element, split into two lists, and sort each\n",
    "    - merge sorted sublists\n",
    "        - look at first element of each, move smaller to end of the result\n",
    "        - when one list is empty, just copy rest of other list\n",
    "- **split list in half** until have sublists of only 1 element\n",
    "- merge such that **sublists will be sorted after merge**\n",
    "- merge sorted sublists\n",
    "- sublists will be sorted after merge"
   ]
  },
  {
   "cell_type": "markdown",
   "metadata": {},
   "source": [
    "## Merging Sublists step"
   ]
  },
  {
   "cell_type": "code",
   "execution_count": 9,
   "metadata": {},
   "outputs": [],
   "source": [
    "def merge(left, right):\n",
    "    result = []\n",
    "    i, j = 0, 0\n",
    "    # left and right sublists are ordered\n",
    "    # move indices for sublists depending on which sublists holds next smallest element\n",
    "    while i < len(left) and j < len(right):\n",
    "        if left[i] < right[j]:\n",
    "            result.append(left[i])\n",
    "            i += 1\n",
    "        else:\n",
    "            result.append(right[j])\n",
    "            j += 1\n",
    "    while (i < len(left)): # when right sublist is empty\n",
    "        result.append(left[i])\n",
    "        i += 1\n",
    "    while (j < len(right)): # when left sublist is empty\n",
    "        result.append(right[j])\n",
    "        j += 1\n",
    "    return result"
   ]
  },
  {
   "cell_type": "markdown",
   "metadata": {},
   "source": [
    "## Complexity of merging sublists step\n",
    "- go through two lists, only one pass\n",
    "- compare only **smallest elements in each sublist**\n",
    "- $O(\\textrm{len(left)} + \\textrm{len(right)})$ copied elements\n",
    "- $O(\\textrm{len(longer list)})$ comparisons\n",
    "- **linear in length of the lists**"
   ]
  },
  {
   "cell_type": "markdown",
   "metadata": {},
   "source": [
    "## Merge sort algorithm -- recursive"
   ]
  },
  {
   "cell_type": "code",
   "execution_count": 10,
   "metadata": {},
   "outputs": [],
   "source": [
    "def merge_sort(L):\n",
    "    if len(L) < 2: # base case\n",
    "        return L[:]\n",
    "    else:\n",
    "        middle = len(L)//2\n",
    "        left = merge_sort(L[:middle]) # divide\n",
    "        right = merge_sort(L[middle:])\n",
    "        return merge(left, right) # conquer with merge step"
   ]
  },
  {
   "cell_type": "markdown",
   "metadata": {},
   "source": [
    "- **divide list** succesively into halves\n",
    "- depth-first such that **conquer smallest pieces down one branch** first before moving to larger pieces"
   ]
  },
  {
   "cell_type": "markdown",
   "metadata": {},
   "source": [
    "## Complexity of Merge Sort\n",
    "- at **first recursion level**\n",
    "    - n/2 elements in each list\n",
    "    - $O(n) + O(n) = O(n)$ where $n$ is len(L)\n",
    "- at **second recursion level**\n",
    "    - n/4 elements in each list\n",
    "    - two merges --> $O(n)$\n",
    "- each recursion level is $O(n)$\n",
    "- **dividing list in half** with each recursive call\n",
    "    - $O(\\log{n})$\n",
    "- overall complexity is $O(n\\log{n})$"
   ]
  },
  {
   "cell_type": "markdown",
   "metadata": {},
   "source": [
    "## Sorting summary\n",
    "- bogo sort\n",
    "    - randomness, unbounded $O()$\n",
    "- bubble sort\n",
    "    - $O(n^2)$\n",
    "- selection sort\n",
    "    - $O(n^2)$\n",
    "    - guaranteed the first i elements were sorted\n",
    "- merge sort\n",
    "    - $O(n \\log{n})$\n",
    "- $O(n\\log{n})$ is the fastest a sort can be"
   ]
  },
  {
   "cell_type": "markdown",
   "metadata": {},
   "source": [
    "# What have we seen in 6.0001?"
   ]
  },
  {
   "cell_type": "markdown",
   "metadata": {},
   "source": [
    "## Key Topics\n",
    "- represent knowledge with **data structures**\n",
    "- **iteration and recursion** as computational metaphors\n",
    "- **abstraction** of procedures and data types\n",
    "- **organize and modularize** systems using object classes\n",
    "- different classes of **algorithms**, searching and sorting\n",
    "- **complexity** of algorithms"
   ]
  },
  {
   "cell_type": "markdown",
   "metadata": {},
   "source": [
    "## Overview of course\n",
    "- learn computational modes of thinking\n",
    "- begin to master the art of computational problems solving\n",
    "- make computers do what you want them to do"
   ]
  },
  {
   "cell_type": "markdown",
   "metadata": {},
   "source": [
    "## What do computer scientists do?\n",
    "- they think computationally\n",
    "    - abstractions, algorithms, automated execution\n",
    "- just like the three r's: reading, 'riting, and 'rithmetic --\n",
    "    - computational thinking is becoming a fundamental skill that every well-educated person will need"
   ]
  },
  {
   "cell_type": "markdown",
   "metadata": {},
   "source": [
    "## The Three A's of Computational Thinking\n",
    "- abstraction\n",
    "    - choosing the right abstractions\n",
    "    - operating in multiple layers of abstraction simultaneously\n",
    "    - defining the relationships between the abstraction layers\n",
    "- automation\n",
    "    - think in terms of mechanizing our abstraction\n",
    "    - mechanization is possible -- because we have precise and exacting notations and models, and because there is some \"machine\" that can interpret our notations\n",
    "- algorithms\n",
    "    - language for describing automated processes\n",
    "    - also allows for abstraction of details\n",
    "    - language for communicating ideas & processes\n",
    "    "
   ]
  },
  {
   "cell_type": "markdown",
   "metadata": {},
   "source": [
    "## Aspects of Computational Thinking\n",
    "- how difficult is this problem and how best can I solve it?\n",
    "    - theoretical computer science gives precise meaning to these and related questions and their answers\n",
    "- thinking recursively\n",
    "    - reformulating a seeminly difficult problem into one which we know how to solve\n",
    "    - reduction, embedding, transformation, simulation"
   ]
  },
  {
   "cell_type": "code",
   "execution_count": null,
   "metadata": {},
   "outputs": [],
   "source": []
  }
 ],
 "metadata": {
  "kernelspec": {
   "display_name": "Python 3",
   "language": "python",
   "name": "python3"
  },
  "language_info": {
   "codemirror_mode": {
    "name": "ipython",
    "version": 3
   },
   "file_extension": ".py",
   "mimetype": "text/x-python",
   "name": "python",
   "nbconvert_exporter": "python",
   "pygments_lexer": "ipython3",
   "version": "3.7.6"
  }
 },
 "nbformat": 4,
 "nbformat_minor": 4
}
