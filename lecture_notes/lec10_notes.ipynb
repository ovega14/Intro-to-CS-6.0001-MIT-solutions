{
 "cells": [
  {
   "cell_type": "markdown",
   "metadata": {},
   "source": [
    "# 6.0001 Lecture 10: Understanding Program Efficiency, Part 1"
   ]
  },
  {
   "cell_type": "markdown",
   "metadata": {},
   "source": [
    "**Speaker:** Prof. Eric Grimson"
   ]
  },
  {
   "cell_type": "markdown",
   "metadata": {},
   "source": [
    "## Today\n",
    "- measuring orders of growth of algorithms\n",
    "- big \"Oh\" notation\n",
    "- complexity classes"
   ]
  },
  {
   "cell_type": "markdown",
   "metadata": {},
   "source": [
    "## Want to understand efficiency of programs\n",
    "- computers are fast and getting faster -- so maybe efficient programs don't matter?\n",
    "    - but data sets can be VERY large\n",
    "    - thus, simple solutions may simply not scale with size in acceptable manner\n",
    "- how can we decide which option for program is most efficient\n",
    "- separate **time and space efficiency** of a program\n",
    "- tradeoff between them:\n",
    "    - can sometimes pre-compute results are stored; then use \"lookup\" to retrieve (e.g. memoization for Fibonacci)\n",
    "    - will focus on time efficiency\n",
    "- challenges in understanding efficiency of solution to a computational problem:\n",
    "    - a program can be **implemented in many different ways**\n",
    "    - you can solve a problem using only a handful of different **algorithms**\n",
    "    - would like to separate choices of implementation from choices of more abstract algorithm"
   ]
  },
  {
   "cell_type": "markdown",
   "metadata": {},
   "source": [
    "## How to Evaluate efficiency of programs\n",
    "- measure with a **timer**\n",
    "- **count** the operations\n",
    "- abstract notion of **order of growth**\n",
    "    - will argue that this is the most appt way of assessing the impact of choices of algorithm in solving a problem; and in measuring the inherent difficulty in solving a problem"
   ]
  },
  {
   "cell_type": "markdown",
   "metadata": {},
   "source": [
    "## Timing a program\n",
    "- use time module\n",
    "    - import time\n",
    "    - start clock\n",
    "    - call function\n",
    "    - stop clock\n",
    "- recall that importing means to bring in that class into your own file"
   ]
  },
  {
   "cell_type": "code",
   "execution_count": 2,
   "metadata": {},
   "outputs": [
    {
     "name": "stdout",
     "output_type": "stream",
     "text": [
      "t = 786.8537364 : 7.61000000011336e-05 s,\n"
     ]
    },
    {
     "name": "stderr",
     "output_type": "stream",
     "text": [
      "C:\\Users\\vega0\\anaconda3\\lib\\site-packages\\ipykernel_launcher.py:9: DeprecationWarning: time.clock has been deprecated in Python 3.3 and will be removed from Python 3.8: use time.perf_counter or time.process_time instead\n",
      "  if __name__ == '__main__':\n",
      "C:\\Users\\vega0\\anaconda3\\lib\\site-packages\\ipykernel_launcher.py:11: DeprecationWarning: time.clock has been deprecated in Python 3.3 and will be removed from Python 3.8: use time.perf_counter or time.process_time instead\n",
      "  # This is added back by InteractiveShellApp.init_path()\n"
     ]
    }
   ],
   "source": [
    "import time\n",
    "\n",
    "def c_to_f(c):\n",
    "    '''\n",
    "    Converts celsius to fahrenheit\n",
    "    '''\n",
    "    return c*9/5 + 32\n",
    "\n",
    "t0 = time.clock() #start clock\n",
    "c_to_f(100000) #call function\n",
    "t1 = time.clock() - t0 #stop clock\n",
    "print(\"t =\", t0, \":\", t1, \"s,\")"
   ]
  },
  {
   "cell_type": "markdown",
   "metadata": {},
   "source": [
    "## Timing programs is Inconsistent\n",
    "- GOAL: to evaluate different algorithms\n",
    "- running time **varies between algorithms** (fine)\n",
    "- running time **varies between implementations** (bad)\n",
    "- running time **varies between computers** (bad)\n",
    "- running time is **not predictable** based on small inputs (bad)\n",
    "- time varies for different inputs but cannot really express a relationship between inputs and time (bad)"
   ]
  },
  {
   "cell_type": "markdown",
   "metadata": {},
   "source": [
    "## Counting operations\n",
    "- assume these steps take **constant time**:\n",
    "    - mathematical operations\n",
    "    - comparisons\n",
    "    - assignments\n",
    "    - accessing objects in memory\n",
    "- then count the number of operations executed as function of size of input"
   ]
  },
  {
   "cell_type": "code",
   "execution_count": 3,
   "metadata": {},
   "outputs": [],
   "source": [
    "def c_to_f(c):\n",
    "    return c*9.0/5 + 32 # 3 ops\n",
    "\n",
    "def mysum(x):\n",
    "    total = 0 # 1 op\n",
    "    for i in range(x+1): # loop for x times\n",
    "        total += i # 1 op\n",
    "    return total # 2 ops\n",
    "# mysum --> 2 + 3x ops"
   ]
  },
  {
   "cell_type": "markdown",
   "metadata": {},
   "source": [
    "## Counting operations is better, but still\n",
    "- GOAL: to evaluate different algorithms\n",
    "- count **depends on algoritm** (good)\n",
    "- count **depends on implementations** (bad)\n",
    "    - i.e. change for loop to while loop, then you also need to test the value of i so it would be 2 + 4x\n",
    "- count **independent of computers** (good)\n",
    "- no clear definition of **which operations** to count (bad)\n",
    "- count varies for different inputs and can come up with a relationship between inputs and the count (good)"
   ]
  },
  {
   "cell_type": "markdown",
   "metadata": {},
   "source": [
    "## Still need a better way\n",
    "- timing and counting **evaluate implementations**\n",
    "- timing **evaluates machines**\n",
    "- want to evaluate:\n",
    "    - **algorithm**\n",
    "    - **scalability**\n",
    "    - **evaluate in terms of input size**\n",
    "- going to focus on idea of counting operations in an algorithm, but not worry about small variations in implementation (e.g. whether we take 3 or 4 primitive operations to execute the steps of the loop)\n",
    "- going to focus on how algorithm performs when size of probem gets arbitrarily large\n",
    "    - asymptotic behavior\n",
    "- want to relate time needed to complete a computation, measured this way, against the size of the input to the problem\n",
    "- need to decide what to measure, given that actual number of steps may depend on specifics of trial"
   ]
  },
  {
   "cell_type": "markdown",
   "metadata": {},
   "source": [
    "## Need to choose which input to use to evaluate a function\n",
    "- want to express **efficiency in terms of size of input**, so need to decide what your input is\n",
    "- could be an **integer**\n",
    "    - mysum(x)\n",
    "- could be **length of list**\n",
    "    - list_sum(L)\n",
    "- **you decide** when multiple parameters to a function\n",
    "    - search_for_elmt(L, e)"
   ]
  },
  {
   "cell_type": "markdown",
   "metadata": {},
   "source": [
    "## Different inputs change how the program runs\n",
    "- a function that searches for an element in a list"
   ]
  },
  {
   "cell_type": "code",
   "execution_count": 4,
   "metadata": {},
   "outputs": [],
   "source": [
    "def search_for_elmt(L, e):\n",
    "    for i in L:\n",
    "        if i == e:\n",
    "            return True\n",
    "    return False"
   ]
  },
  {
   "cell_type": "markdown",
   "metadata": {},
   "source": [
    "- when e is **first element** in the list --> BEST CASE\n",
    "    - only needs to go through 1 element\n",
    "- when e is **NOT in list** --> WORST CASE\n",
    "    - goes through all elements before returning false\n",
    "- when **look through about half** of elements in list --> AVERAGE CASE\n",
    "- want to measure this behavior in a general way"
   ]
  },
  {
   "cell_type": "markdown",
   "metadata": {},
   "source": [
    "# Best, Average, Worst cases\n",
    "- suppose you are given a list L of some length len(L)\n",
    "- **best case:** minimum running time over all possible inputs of a given size, len(L)\n",
    "    - constant for *search_for_elmt*\n",
    "    - first element in any list\n",
    "- **average case:** average running time over all possible inputs of a given size, len(L)\n",
    "    - practical measure\n",
    "- **worst case:** maximum running time over all possible inputs of a given size, len(L)\n",
    "    - (will generally focus on this case)\n",
    "    - linear in length of list for *search_for_elmt*\n",
    "        - twice the length, twice as many searches needed\n",
    "    - must search entire list and not find it"
   ]
  },
  {
   "cell_type": "markdown",
   "metadata": {},
   "source": [
    "## Orders of growth\n",
    "- Goals:\n",
    "    - want to evaluate program's efficiency when **input is very big**\n",
    "    - want to express the **growth of program's run time** as input size grows\n",
    "    - want to put an **upper bound** on growth - as tight as possible\n",
    "    - do not need to be precise: **\"order of\" not \"exact\"** growth\n",
    "    - we will look at **largest factors** in run time (which section of the program will take the longest to run?)\n",
    "    - **thus, generally we want tight upper bound on growth, as function of size of input, in worst case**"
   ]
  },
  {
   "cell_type": "markdown",
   "metadata": {},
   "source": [
    "## Measuring order of growth: Big OH Notation\n",
    "- big Oh notation measures an **upper bound on the asymptotic growth**, often called order of growth\n",
    "- **big Oh or $O()$** is used to describe worst case\n",
    "    - worst case occurs often and is the bottleneck when a program runs\n",
    "    - express rate of growth of program relative to the input size\n",
    "    - evaluate algorithm, NOT machine or implementation"
   ]
  },
  {
   "cell_type": "markdown",
   "metadata": {},
   "source": [
    "## Exact steps vs O()"
   ]
  },
  {
   "cell_type": "code",
   "execution_count": 5,
   "metadata": {},
   "outputs": [],
   "source": [
    "# iteratively compute n!\n",
    "def fact_iter(n):\n",
    "    \"\"\"assumes n an int >= 0\"\"\"\n",
    "    answer = 1\n",
    "    while n > 1:\n",
    "        answer *= n # answer = answer*n\n",
    "        n -= 1 # temp = n-1, n = temp\n",
    "    return answer"
   ]
  },
  {
   "cell_type": "markdown",
   "metadata": {},
   "source": [
    "- computes factorial\n",
    "- number of steps: 1 + 5n + 1\n",
    "- worst case asymptotic comlexity: $O(n)$\n",
    "    - ignore additive constants\n",
    "    - ignore multiplicative constants"
   ]
  },
  {
   "cell_type": "markdown",
   "metadata": {},
   "source": [
    "## What does $O(n)$ measure?\n",
    "- interested in describing how amount of time needed grows as size of (input to) problem grows\n",
    "- Thus, given an expression for the number of operations needed to compute an algorithm, want to know asymptotic behavior as size of problem gets large\n",
    "- Hence, will focus on term that grows most rapidly in a sum of terms\n",
    "- AND will ignore multiplicative constants, since want to know how rapidly time required increases as increase size of input"
   ]
  },
  {
   "cell_type": "markdown",
   "metadata": {},
   "source": [
    "## Simplification Examples\n",
    "- drop additive constants and multiplicative factors\n",
    "- focus on **dominant terms**\n",
    "- $O(n^2)$ : $n^2 + 2n + 2$\n",
    "- $O(n^2)$ : $n^2 + 100000n + 3^{1000}$\n",
    "- $O(n)$ : $\\log(n) + n + 4$\n",
    "- $O(n\\log{n})$ : $0.0001n \\log(n) + 300n$\n",
    "- $O(3^n)$ : $2n^{30} + 3^n$"
   ]
  },
  {
   "cell_type": "markdown",
   "metadata": {},
   "source": [
    "## Types of orders of growth\n",
    "- constant\n",
    "- linear\n",
    "- qudratic\n",
    "- logarithmic\n",
    "- log-linear ($n \\log{n}$)\n",
    "- exponentian"
   ]
  },
  {
   "cell_type": "markdown",
   "metadata": {},
   "source": [
    "## Analyzing Programs and their Complexity\n",
    "- **combine** comlexity classes\n",
    "    - analyze statements inside functions\n",
    "    - apply some rules, focus on dominant term\n",
    "- **Law of Addition** for $O()$:\n",
    "    - used with **sequential** statements\n",
    "    - $O(f(n)) + O(g(n)) = O(f(n) + g(n))$"
   ]
  },
  {
   "cell_type": "code",
   "execution_count": 6,
   "metadata": {},
   "outputs": [],
   "source": [
    "# examle of law of addition\n",
    "def add_example(n):\n",
    "    for i in range(n):\n",
    "        print('a') # O(n)\n",
    "    for i in range(n*n):\n",
    "        print('b') # O(n*n)"
   ]
  },
  {
   "cell_type": "markdown",
   "metadata": {},
   "source": [
    "- in the example above, the function is $O(n) + O(n^2) = O(n+n^2) = O(n^2)$ because of dominant term"
   ]
  },
  {
   "cell_type": "markdown",
   "metadata": {},
   "source": [
    "- **Law of Multiplication** for $O()$:\n",
    "    - used with **nested** statements/loops\n",
    "    - $O(f(n)) \\cdot O(g(n)) = O(f(n)\\cdot g(n))$"
   ]
  },
  {
   "cell_type": "code",
   "execution_count": 7,
   "metadata": {},
   "outputs": [],
   "source": [
    "# example of law of multiplication\n",
    "def mult_example(n):\n",
    "    for i in range(n): # n loops, each O(n) --> O(n)*O(n)\n",
    "        for j in range(n): # O(n)\n",
    "            print('a')"
   ]
  },
  {
   "cell_type": "markdown",
   "metadata": {},
   "source": [
    "- in the example above, the function is $O(n)\\cdot O(n) = O(n\\cdot n) = O(n^2)$ because the outer loop goes n times and the inner loop goes n times for every outer loop iter"
   ]
  },
  {
   "cell_type": "markdown",
   "metadata": {},
   "source": [
    "## Complexity classes\n",
    "- $O(1)$ denotes **constant** running time\n",
    "- $O(n)$ denotes **linear** running time\n",
    "- $O(\\log{n})$ denotes **logarithmic** running time\n",
    "- $O(n \\log{n})$ denotes **log-linear** running time\n",
    "- $O(n^c)$ denotes **polynomial** running time ($c$ is a constant)\n",
    "- $O(c^n)$ dentes **exponential** running time ($c$ is a constant being raised to a power based on size of input)"
   ]
  },
  {
   "cell_type": "markdown",
   "metadata": {},
   "source": [
    "## Complexity classes Ordered LOW to HIGH\n",
    "- $O(1)$\n",
    "- $O(\\log{n})$\n",
    "- $O(n)$\n",
    "- $O(n \\log{n})$\n",
    "- $O(n^c)$\n",
    "- $O(c^n)$"
   ]
  },
  {
   "cell_type": "markdown",
   "metadata": {},
   "source": [
    "## Linear complexity\n",
    "- simple iterative loop algorithms are typically linear in complexity"
   ]
  },
  {
   "cell_type": "markdown",
   "metadata": {},
   "source": [
    "## Linear search on UNSORTED list"
   ]
  },
  {
   "cell_type": "code",
   "execution_count": 8,
   "metadata": {},
   "outputs": [],
   "source": [
    "def linear_search(L, e):\n",
    "    found = False # 1 operation\n",
    "    for i in range(len(L)):\n",
    "        if e == L[i]:\n",
    "            # speed up a little by returning True here, but speed up doesn't impact worst case\n",
    "            found = True \n",
    "    return found # 1 operation"
   ]
  },
  {
   "cell_type": "markdown",
   "metadata": {},
   "source": [
    "- must look through all elements to decide it's not there\n",
    "- $O(len(L))$ for the loop $* O(1)$ to test if e == L[i] (assumes we can retrieve element of list in constant time)\n",
    "    - $O(1 + 4n + 1) = O(4n + 2) = O(n)$\n",
    "- Thus, overall complexity is $O(n)$, where $n$ is len(L)"
   ]
  },
  {
   "cell_type": "markdown",
   "metadata": {},
   "source": [
    "## Constant time list access\n",
    "- if list is all ints\n",
    "    - ith element at\n",
    "        - base + 4 * i\n",
    "- if list is heretogeneous\n",
    "    - indirection\n",
    "    - references to other objects"
   ]
  },
  {
   "cell_type": "markdown",
   "metadata": {},
   "source": [
    "## Linear search on SORTED list:"
   ]
  },
  {
   "cell_type": "code",
   "execution_count": 10,
   "metadata": {},
   "outputs": [],
   "source": [
    "def search(L, e):\n",
    "    for i in range(len(L)):\n",
    "        if L[i] == e:\n",
    "            return True\n",
    "        if L[i] > e:\n",
    "            return False # because then it can't be in the list\n",
    "    return False"
   ]
  },
  {
   "cell_type": "markdown",
   "metadata": {},
   "source": [
    "- must only look until reach a number greater than e\n",
    "- $O(len(L))$ for the loop $* O(1)$ to test if e == L[i]\n",
    "- overall complexity is $O(n)$ again, where $n$ is len(L)\n",
    "- **NOTE:** order of growth is same for unsorted & sorted cases, though run time may differ for the two search methods"
   ]
  },
  {
   "cell_type": "markdown",
   "metadata": {},
   "source": [
    "## Linear Complexity\n",
    "- searching a list in sequence to see if an element is present\n",
    "- add characters of a string, assumed to be composed of decimal digits"
   ]
  },
  {
   "cell_type": "code",
   "execution_count": 11,
   "metadata": {},
   "outputs": [],
   "source": [
    "def addDigits(s):\n",
    "    val = 0\n",
    "    for c in s:\n",
    "        val += int(c)\n",
    "    return val"
   ]
  },
  {
   "cell_type": "markdown",
   "metadata": {},
   "source": [
    "- above function is $O(len(s))$"
   ]
  },
  {
   "cell_type": "markdown",
   "metadata": {},
   "source": [
    "- complexity often depends on number of iterations"
   ]
  },
  {
   "cell_type": "code",
   "execution_count": 12,
   "metadata": {},
   "outputs": [],
   "source": [
    "def fact_iter(n):\n",
    "    prod = 1\n",
    "    for i in range(1, n+1):\n",
    "        prod *= i\n",
    "    return prod"
   ]
  },
  {
   "cell_type": "markdown",
   "metadata": {},
   "source": [
    "- number of times around loop is $n$\n",
    "- number of operations inside loop is a constant (in this case, 3-- set i, multiply, set prod)\n",
    "    - $O(1 + 3n + 1) = O(3n + 2) = O(n)$\n",
    "- overall just $O(n)$"
   ]
  },
  {
   "cell_type": "markdown",
   "metadata": {},
   "source": [
    "## Nested Loops\n",
    "- simple loops are linear in complexity\n",
    "- what about loops that have loops within them?"
   ]
  },
  {
   "cell_type": "markdown",
   "metadata": {},
   "source": [
    "## Quadratic Complexity\n",
    "- determine if one list is subset of second, i.e. every element of first appears in second (assume no duplicates)"
   ]
  },
  {
   "cell_type": "code",
   "execution_count": 13,
   "metadata": {},
   "outputs": [],
   "source": [
    "def isSubset(L1, L2):\n",
    "    for e1 in L1: # outer loop executed len(L1) times\n",
    "        matched = False # each iteration will execute inner loop up to len(L2) times\n",
    "        for e2 in L2: # constant number of operations\n",
    "            if e1 == e2:\n",
    "                matched = True\n",
    "                break\n",
    "        if not matched:\n",
    "            return False\n",
    "    return True"
   ]
  },
  {
   "cell_type": "markdown",
   "metadata": {},
   "source": [
    "- nested loops --> product\n",
    "    - $O(len(L1))\\cdot O(len(L2))$\n",
    "- worst case when L1 and L2 same length, none  of elements of L1 in L2\n",
    "    - becomes $O(len(L1)^2)$"
   ]
  },
  {
   "cell_type": "markdown",
   "metadata": {},
   "source": [
    "- find intersection of two lists, return a list with each element appearing only once"
   ]
  },
  {
   "cell_type": "code",
   "execution_count": 14,
   "metadata": {},
   "outputs": [],
   "source": [
    "def intersect(L1, L2):\n",
    "    tmp = []\n",
    "    for e1 in L1: # first nested loop takes len(L1)*len(L2) steps\n",
    "        for e2 in L2: # second loop takes at most len(L1) steps\n",
    "            if e1 == e2:\n",
    "                tmp.append(e1)\n",
    "    res = []\n",
    "    # remove duplicates\n",
    "    for e in tmp:\n",
    "        if not (e in res): # determining if element in list might take len(L1) steps\n",
    "            res.append(e)\n",
    "    return res"
   ]
  },
  {
   "cell_type": "markdown",
   "metadata": {},
   "source": [
    "- if we assume lists are of roughly the same length, then\n",
    "    - $O(len(L1)^2)$"
   ]
  },
  {
   "cell_type": "markdown",
   "metadata": {},
   "source": [
    "## $O()$ for Nested Loops"
   ]
  },
  {
   "cell_type": "code",
   "execution_count": 16,
   "metadata": {},
   "outputs": [],
   "source": [
    "def g(n):\n",
    "    \"\"\" assume n >= 0 \"\"\"\n",
    "    x = 0\n",
    "    for i in range(n):\n",
    "        for j in range(n):\n",
    "            x += 1\n",
    "    return x"
   ]
  },
  {
   "cell_type": "markdown",
   "metadata": {},
   "source": [
    "- this function computes $n^2$ very inefficiently\n",
    "- when dealing with nested loops, **look at the ranges**\n",
    "- nested loops, **each iterating n times**\n",
    "- $O(n^2)$"
   ]
  },
  {
   "cell_type": "markdown",
   "metadata": {},
   "source": [
    "## This time and next time\n",
    "- have seen examples of loops, nested loops\n",
    "- give rise to linear and quadratic complexity algorithms\n",
    "- next time, will more carefully examine examples from each of the different complexity classes"
   ]
  },
  {
   "cell_type": "code",
   "execution_count": null,
   "metadata": {},
   "outputs": [],
   "source": []
  }
 ],
 "metadata": {
  "kernelspec": {
   "display_name": "Python 3",
   "language": "python",
   "name": "python3"
  },
  "language_info": {
   "codemirror_mode": {
    "name": "ipython",
    "version": 3
   },
   "file_extension": ".py",
   "mimetype": "text/x-python",
   "name": "python",
   "nbconvert_exporter": "python",
   "pygments_lexer": "ipython3",
   "version": "3.7.6"
  }
 },
 "nbformat": 4,
 "nbformat_minor": 4
}
