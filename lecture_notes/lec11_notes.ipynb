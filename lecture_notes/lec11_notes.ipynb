{
 "cells": [
  {
   "cell_type": "markdown",
   "metadata": {},
   "source": [
    "# 6.0001 Lecture 11: Understanding Program Efficiency, Part 2"
   ]
  },
  {
   "cell_type": "markdown",
   "metadata": {},
   "source": [
    "**Speaker:** Prof. Eric Grimson"
   ]
  },
  {
   "cell_type": "markdown",
   "metadata": {},
   "source": [
    "## Today:\n",
    "- classes of complexity\n",
    "- examples characteristic of class"
   ]
  },
  {
   "cell_type": "markdown",
   "metadata": {},
   "source": [
    "## Why we want to understand efficiency of programs\n",
    "- how can we reason about an algorithm in order to predict the amount of time it will need to solve a problem of a particular size?\n",
    "- how can we relate choices in algorithm design to the time efficiency of the resulting algorithm?\n",
    "    - are there fundamental limits on the amount of time we will need to solve a particular problem?"
   ]
  },
  {
   "cell_type": "markdown",
   "metadata": {},
   "source": [
    "## Orders of Growth: recap\n",
    "- goal:\n",
    "    - want to evaluate program's efficiency when **input is very big**\n",
    "    - want to express the **growth of program's run time** as input size grows\n",
    "    - want to put an **upper bound** on growth - as tight as possible\n",
    "    - do not need to be precise: **\"order of\" NOT \"exact\"** growth\n",
    "    - we will look at **largest factors** in run time (which section of the program will take the longest to run?)\n",
    "    - **thus, generally we want tight upper bound on growth, as function of size of input, in worst case**"
   ]
  },
  {
   "cell_type": "markdown",
   "metadata": {},
   "source": [
    "## Complexity classes: recap (ordered LOW to HIGH)\n",
    "- $O(1)$ denotes constant running time\n",
    "- $O(\\log{n})$ denotes logarithmic running time\n",
    "- $O(n)$ denotes linear running time\n",
    "- $O(n \\log{n})$ denotes log-linear running time\n",
    "- $O(n^c)$ denotes polynomial running time ($c$ is a constant)\n",
    "- $O(c^n)$ denotes exponential running time ($c$ is a constant being raised to a power based on size of input)"
   ]
  },
  {
   "cell_type": "markdown",
   "metadata": {},
   "source": [
    "## Constant complexity\n",
    "- complexity independent of inputs\n",
    "- very few interesting algorithms in this complexity class, but can often have pieces that fit this class\n",
    "- can have loops or recursive calls, but ONLY if number of iterations or calls independent of size of input\n",
    "- example: \n",
    "    - sequential search in list"
   ]
  },
  {
   "cell_type": "markdown",
   "metadata": {},
   "source": [
    "## Logarithmic Complexity\n",
    "- complexity grows as log of size of one of its inputs\n",
    "- example:\n",
    "    - bisection search\n",
    "    - binary search of a list"
   ]
  },
  {
   "cell_type": "markdown",
   "metadata": {},
   "source": [
    "## Bisection search\n",
    "- suppose we want to know if a particular element is present in a list\n",
    "- saw last time that we could just \"walk down\" the list, checking each element\n",
    "- complexity was linear in length of the list\n",
    "    - $O(\\textrm{len(L)})$\n",
    "- suppose we know that the list is ordered from smallest to largest\n",
    "    - saw that sequential search was still linear in complexity\n",
    "    - can we do better?\n",
    "- steps for bisection search:\n",
    "    - pick an index, i, that divides the list in half\n",
    "    - ask if L[i] == e\n",
    "    - if not, ask if L[i] is larger or smaller than e\n",
    "    - depending on answer, search left or right half of L for [e]\n",
    "- A new version of a divide-and-conquer algorithm\n",
    "    - break into smaller version of problem (smaller list), plus some simple operations\n",
    "    - answer to smaller version is answer to original problem"
   ]
  },
  {
   "cell_type": "markdown",
   "metadata": {},
   "source": [
    "## Bisection search Complexity Analysis\n",
    "- finish looking through list when $1 = \\frac{n}{2^i}$ (only one element left)\n",
    "    - so $i = \\log_2{n}$\n",
    "- complexity of recursion is $O(\\log{n})$, where $n$ is len(L)"
   ]
  },
  {
   "cell_type": "code",
   "execution_count": 1,
   "metadata": {},
   "outputs": [],
   "source": [
    "# bisection search implementation 1\n",
    "def bisect_search1(L, e):\n",
    "    if L == []:\n",
    "        return False # constant O(1)\n",
    "    elif len(L) == 1:\n",
    "        return L[0] == e # constant O(1)\n",
    "    else:\n",
    "        half = len(L)//2 # constant O(1)\n",
    "        if L[half] > e:\n",
    "            return bisect_search1(L[:half], e) # NOT constant (because copies list)\n",
    "        else:\n",
    "            return bisect_search1(L[half:], e) # NOT constant"
   ]
  },
  {
   "cell_type": "markdown",
   "metadata": {},
   "source": [
    "## Bisection search method\n",
    "- implementation 1 - bisect_search1\n",
    "    - $O(\\log{n})$ bisection search calls\n",
    "        - on each recursive call, size of range to be searched is cut in half\n",
    "        - if original range is of size n, in worst case down to range of size 1 when $\\frac{n}{2^k}=1$, or when $k=\\log{n}$\n",
    "    - $O(n)$ for each bisection search call to copy list\n",
    "        - this is the cost to set up each call, so do this for each level of recursion\n",
    "    - $O(\\log{n})$*$O(n)$ --> $O(n \\log{n})$\n",
    "    - if we are really careful, note that the length of list to be called is also halved on each recursive call\n",
    "        - turns out that total cost to copy is $O(n)$ and this dominates the $\\log{n}$ cost due to recursive cals"
   ]
  },
  {
   "cell_type": "markdown",
   "metadata": {},
   "source": [
    "## Bisection search alternative\n",
    "- still reduce size of problem by factor of two on each step\n",
    "- but just keep track of low and high portion of list to be searched\n",
    "- avoid copying list\n",
    "- complexity of recursion is again $O(\\log{n})$ where $n$ is len(L)"
   ]
  },
  {
   "cell_type": "code",
   "execution_count": 3,
   "metadata": {},
   "outputs": [],
   "source": [
    "# bisection search implementation 2\n",
    "def bisect_search2(L, e):\n",
    "    def bisect_search_helper(L, e, low, high):\n",
    "        if high == low: # unit length list\n",
    "            return L[low] == e\n",
    "        mid = (low + high)//2\n",
    "        if L[mid] == e:\n",
    "            return True\n",
    "        elif L[mid] > e:\n",
    "            if low == mid: # nothing left to search\n",
    "                return False\n",
    "            else:\n",
    "                return bisect_search_helper(L, e, low, mid-1) # constant other than recursive callz\n",
    "        else:\n",
    "            return bisect_search_helper(L, e, mid+1, high) # constant other than recursive call\n",
    "    if len(L) == 0:\n",
    "        return False\n",
    "    else:\n",
    "        return bisect_search_helper(L, e, 0, len(L)-1)"
   ]
  },
  {
   "cell_type": "markdown",
   "metadata": {},
   "source": [
    "## Complexity of second bisection search method\n",
    "- **implementation 2 -- bisect_search2** and its helper\n",
    "    - $O(\\log{n})$ bisecton search calls\n",
    "        - On each recursive call, size of range to be searched is cut in half\n",
    "        - if original range is of size n, in worst case down to range of size 1 when $\\frac{n}{2^k}=1$, or when $k = \\log{n}$\n",
    "    - pass list and indices as parameters\n",
    "    - list never copied, just re-passed as pointer\n",
    "    - thus $O(1)$ work on each recursive call\n",
    "    - $O(\\log{n})$*$O(1)$ --> $O(\\log{n})$"
   ]
  },
  {
   "cell_type": "markdown",
   "metadata": {},
   "source": [
    "## Logarithmic complexity"
   ]
  },
  {
   "cell_type": "code",
   "execution_count": 4,
   "metadata": {},
   "outputs": [],
   "source": [
    "# convert into to str\n",
    "def intToStr(i):\n",
    "    digits = '0123456789'\n",
    "    if i == 0:\n",
    "        return '0'\n",
    "    result = ''\n",
    "    while i > 0:\n",
    "        result = digits[i%10] + result\n",
    "        i = i//10\n",
    "    return result"
   ]
  },
  {
   "cell_type": "markdown",
   "metadata": {},
   "source": [
    "- only have to look at loop, as no function calls\n",
    "- within while loop, constant number of steps\n",
    "- how many times through loop?\n",
    "    - how many times can one divide i by 10?\n",
    "    - $O(\\log{i})$"
   ]
  },
  {
   "cell_type": "markdown",
   "metadata": {},
   "source": [
    "## Linear complexity\n",
    "- saw this last time\n",
    "    - searching a list in sequence to see if an element is present\n",
    "    - iterative loops"
   ]
  },
  {
   "cell_type": "markdown",
   "metadata": {},
   "source": [
    "## $O()$ for iterative factorial\n",
    "- complexity can depend on number of iterative calls"
   ]
  },
  {
   "cell_type": "code",
   "execution_count": 5,
   "metadata": {},
   "outputs": [],
   "source": [
    "def fact_iter(n):\n",
    "    prod = 1\n",
    "    for i in range(1, n+1):\n",
    "        prod *= i\n",
    "    return prod"
   ]
  },
  {
   "cell_type": "markdown",
   "metadata": {},
   "source": [
    "- overall $O(n)$ -- n times round loop, constant cost each time"
   ]
  },
  {
   "cell_type": "markdown",
   "metadata": {},
   "source": [
    "## $O()$ for recursive factorial"
   ]
  },
  {
   "cell_type": "code",
   "execution_count": 6,
   "metadata": {},
   "outputs": [],
   "source": [
    "def fact_recur(n):\n",
    "    \"\"\" assume n >= 0 \"\"\"\n",
    "    if n <= 1:\n",
    "        return 1\n",
    "    else:\n",
    "        return n*fact_recur(n-1)"
   ]
  },
  {
   "cell_type": "markdown",
   "metadata": {},
   "source": [
    "- computes factorial recursively\n",
    "- if you time it, may notice that it runs a bit slowe than iterative version due to function calls\n",
    "- still $O(n)$ because the number of function calls is linear in n, and constant effort to set up call\n",
    "- **iterative and recursive factorial** implementations are the **same order of growth**"
   ]
  },
  {
   "cell_type": "markdown",
   "metadata": {},
   "source": [
    "## Log-linear complexity\n",
    "- many practical algorithms are log-linear\n",
    "- very commonly used log-linear algorithm is merge sort\n",
    "- will return to this next lecture"
   ]
  },
  {
   "cell_type": "markdown",
   "metadata": {},
   "source": [
    "## Polynomial complexity\n",
    "- most common polynomial algorithms are quadratic, i.e. complexity grows with square of size of input\n",
    "- commonly occurs when we have nested loops or recursive function calls\n",
    "- saw this last time"
   ]
  },
  {
   "cell_type": "markdown",
   "metadata": {},
   "source": [
    "## Exponential Complexity\n",
    "- recursive functions where more than one recursive call for each size of problem\n",
    "    - Towers of Hanoi\n",
    "- many important problems are inherently exponential\n",
    "    - unfortunate, as cost can be high\n",
    "    - will lead us to consider approximate solutions as may provide reasonable answer more quickly"
   ]
  },
  {
   "cell_type": "markdown",
   "metadata": {},
   "source": [
    "## Complexity of Towers of Hanoi\n",
    "- let $t_n$ denote time to solve tower of size $n$\n",
    "- $t_n = 2 t_{n-1} + 1$\n",
    "- $ = 2(2 t_{n-2} + 1) + 1$\n",
    "- $ = 4t_{n-2} 2 + 1$\n",
    "- $ = 4(2 t_{n-3} + 1) + 2 + 1$\n",
    "- $ = 8t_{n-3} + 4 + 2 + 1$\n",
    "- $ = 2^k t_{n-k} + 2^{k-1} + \\cdots + 4 + 2 + 1$\n",
    "- $ = 2^{n-1} + 2^{n-2} + \\cdots + 4 + 2 + 1$\n",
    "- $ = 2^n - 1$\n",
    "- Geometric growth:\n",
    "    - $a = 2^{n-1} + \\cdots + 2 + 1$\n",
    "    - $2a = 2^n + 2^{n-1} + \\cdots + 2$\n",
    "    - $a = 2^n - 1$\n",
    "- so order of growth is $O(2^n)$"
   ]
  },
  {
   "cell_type": "markdown",
   "metadata": {},
   "source": [
    "## Exponential Complexity\n",
    "- given a set of integers (with no repeats), want to generate the collection of all possible subsets\n",
    "    - called the power set, $A \\mapsto \\mathcal{P}(A)$\n",
    "- {1, 2, 3, 4} would generate\n",
    "    - {}, {1}, {2}, {3}, {4}, {1, 2}, {1, 3}, {1, 4}, {2, 3}, {2, 4}, {3, 4}, {1, 2, 3}, {1, 2, 4}, {1, 3, 4}, {2, 3, 4}, {1, 2, 3, 4}\n",
    "- order doesn't matter"
   ]
  },
  {
   "cell_type": "markdown",
   "metadata": {},
   "source": [
    "## Power Set -- concept\n",
    "- we want to generate the power set of integers from 1 to $n$\n",
    "- we assume we can generate the power set of integers from 1 to $n-1$\n",
    "- then all of those subsets belong to the bigger power set (choosing not to include $n$); and all of those subsets with $n$ added to each of them also belongs to the bigger power set (choosing to include $n$)\n",
    "- e.g. let $n=4$\n",
    "    - subsets without $n$:\n",
    "        - {}, {1}, {2}, {3}, {1, 2}, {1, 3}, {2, 3},  {1, 2, 3} \n",
    "    - subsets with $n$:\n",
    "        - {4}, {1, 4}, {2, 4}, {3, 4}, {1, 2, 4}, {1, 3, 4}, {2, 3, 4}, {1, 2, 3, 4}\n",
    "- nice recursive description!\n",
    "    - assume we can solve a smaller problem, i.e. create $\\mathcal{P}(\\{1, 2, ..., n-1\\})$\n",
    "    - add $n$ to all the previous subsets and combine those with and without"
   ]
  },
  {
   "cell_type": "code",
   "execution_count": 7,
   "metadata": {},
   "outputs": [],
   "source": [
    "# exponential complexity\n",
    "def genSubsets(L):\n",
    "    res = []\n",
    "    if len(L) == 0:\n",
    "        return [[]] # list of empty list\n",
    "    smaller = getSubsets(L[:-1]) # all subsets without last element\n",
    "    extra = L[-1:] # create a list of just last element\n",
    "    new = []\n",
    "    for small in smaller:\n",
    "        new.append(small+extra) # for all smaller solutions, add one with last element\n",
    "    return smaller + new # combine those with last element and those without    "
   ]
  },
  {
   "cell_type": "markdown",
   "metadata": {},
   "source": [
    "- assuming *append* is constant time\n",
    "- time includes time to solve smaller problem, plus time needed to make a copy of all elements in smaller problem\n",
    "- but important to think about size of *smaller*\n",
    "- know that for a set of size $k$, there are $2^k$ cases\n",
    "- how can we deduce overall complexity"
   ]
  },
  {
   "cell_type": "markdown",
   "metadata": {},
   "source": [
    "## Exponential Complexity\n",
    "- let $t_n$ denote time to solve problem of size $n$\n",
    "- let $s_n$ denote size of solution for problem of size $n$\n",
    "- $t_n = t_{n-1} + s_{n-1} = c$, where $c$ is some constant number of operations\n",
    "- $t_n = t_{n-1} + 2^{n-1} + c$\n",
    "    - $ = t_{n-2} + 2^{n-2} + c + 2^{n-1} + c$\n",
    "    - $ = t_{n-k} + 2^{n-k} + \\cdots + 2^{n-1} + kc$\n",
    "    - $ = t_0 + 2^0 + \\cdots + 2^{n-1} + nc$\n",
    "    - $ = 1 + 2^n + nc$\n",
    "- Thus computing the power set is $O(2^n)$"
   ]
  },
  {
   "cell_type": "markdown",
   "metadata": {},
   "source": [
    "## Complexity Classes\n",
    "- $O(1)$ - code does not depend on size of problem\n",
    "- $O(\\log{n})$ - reduce problem in half each time through process\n",
    "- $O(n)$ - simple iterative or recursive program\n",
    "- $O(n \\log{n})$ - will see next time\n",
    "- $O(n^c)$ - nested loops or recursive calls\n",
    "- $O(c^n)$ - multiple recursive calls at each level"
   ]
  },
  {
   "cell_type": "markdown",
   "metadata": {},
   "source": [
    "# Some more examples of analyzing complexity"
   ]
  },
  {
   "cell_type": "markdown",
   "metadata": {},
   "source": [
    "## Complexity of Iterative Fibonacci"
   ]
  },
  {
   "cell_type": "code",
   "execution_count": 8,
   "metadata": {},
   "outputs": [],
   "source": [
    "def fib_iter(n):\n",
    "    if n == 0: # constant O(1)\n",
    "        return 0\n",
    "    elif n == 1: # constant O(1)\n",
    "        return 1\n",
    "    else: # constant O(1)\n",
    "        fib_i = 0\n",
    "        fib_ii = 1\n",
    "        for i in range(n-1): # linear O(n)\n",
    "            tmp = fib_i\n",
    "            fib_i = fib_ii\n",
    "            fib_ii = tmp + fib_ii\n",
    "        return fib_ii # constant O(1)"
   ]
  },
  {
   "cell_type": "markdown",
   "metadata": {},
   "source": [
    "## Complexity of Recursive Fibonacci"
   ]
  },
  {
   "cell_type": "code",
   "execution_count": 9,
   "metadata": {},
   "outputs": [],
   "source": [
    "def fib_recur(n):\n",
    "    \"\"\" assumes n an int >= 0 \"\"\"\n",
    "    if n == 0:\n",
    "        return 0\n",
    "    elif n == 1:\n",
    "        return 1\n",
    "    else:\n",
    "        return fib_recur(n-1) + fib_recur(n-2)"
   ]
  },
  {
   "cell_type": "markdown",
   "metadata": {},
   "source": [
    "- worst case: $O(2^n)$\n",
    "- actually can do a bit better than $2^n$ since tree of cases things out to right\n",
    "- but complexity is still exponential"
   ]
  },
  {
   "cell_type": "markdown",
   "metadata": {},
   "source": [
    "## Big Oh Summary\n",
    "- compare **efficiency of algorithms**\n",
    "    - notation that describes growth\n",
    "    - **lower order of growth** is better\n",
    "    - independent of machine or specific implementation\n",
    "- use Big Oh\n",
    "    - describe order of growth\n",
    "    - **asymptotic notation**\n",
    "    - **worst case** analysis"
   ]
  },
  {
   "cell_type": "markdown",
   "metadata": {},
   "source": [
    "## Complexity of Common Python Functions\n",
    "- **Lists**: $n$ is len(L)\n",
    "    - index: $O(1)$\n",
    "    - store: $O(1)$\n",
    "    - length: $O(1)$\n",
    "    - append: $O(1)$\n",
    "    - ==: $O(n)$\n",
    "    - remove: $O(n)$\n",
    "    - copy: $O(n)$\n",
    "    - reverse: $O(n)$\n",
    "    - iteration: $O(n)$\n",
    "    - in list: $O(n)$\n",
    "- **Dictionaries**: $n$ is len(d)\n",
    "    - worst case:\n",
    "        - index: $O(n)$\n",
    "        - store: $O(n)$\n",
    "        - length: $O(n)$\n",
    "        - delete: $O(n)$\n",
    "        - iteration: $O(n)$\n",
    "    - best case:\n",
    "        - index: $O(1)$\n",
    "        - store: $O(1)$\n",
    "        - delete: $O(1)$\n",
    "        - iteration: $O(n)$"
   ]
  },
  {
   "cell_type": "code",
   "execution_count": null,
   "metadata": {},
   "outputs": [],
   "source": []
  }
 ],
 "metadata": {
  "kernelspec": {
   "display_name": "Python 3",
   "language": "python",
   "name": "python3"
  },
  "language_info": {
   "codemirror_mode": {
    "name": "ipython",
    "version": 3
   },
   "file_extension": ".py",
   "mimetype": "text/x-python",
   "name": "python",
   "nbconvert_exporter": "python",
   "pygments_lexer": "ipython3",
   "version": "3.7.6"
  }
 },
 "nbformat": 4,
 "nbformat_minor": 4
}
