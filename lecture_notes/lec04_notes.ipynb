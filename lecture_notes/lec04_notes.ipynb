{
 "cells": [
  {
   "cell_type": "markdown",
   "metadata": {},
   "source": [
    "# 6.0001 Lecture 4: Decomposition, Abstraction, and Functions"
   ]
  },
  {
   "cell_type": "markdown",
   "metadata": {},
   "source": [
    "**Speaker:** Dr. Ana Bell"
   ]
  },
  {
   "cell_type": "markdown",
   "metadata": {},
   "source": [
    "## Last Time: \n",
    "- while loops vs for loops\n",
    "- should know how to write both kinds\n",
    "- should know when to use them\n",
    "- guess-and-check and approximation methods\n",
    "- bisection method to speed up programs"
   ]
  },
  {
   "cell_type": "markdown",
   "metadata": {},
   "source": [
    "## Today:\n",
    "- structuring programs and hiding details\n",
    "- functions\n",
    "- specifications\n",
    "- keyword: return vs print\n",
    "- scope"
   ]
  },
  {
   "cell_type": "markdown",
   "metadata": {},
   "source": [
    "## How do we write code?\n",
    "- so far...\n",
    "    - covered language mechanisms\n",
    "    - know how to write different files for each computation\n",
    "    - each file is some piece of code\n",
    "    - each code is a sequence of instructions\n",
    "- problems with this approach\n",
    "    - easy for small-scale problems\n",
    "    - messy for larger problems\n",
    "    - hard to keep track of details\n",
    "    - how do you know the right info is supplied to the right part of code?"
   ]
  },
  {
   "cell_type": "markdown",
   "metadata": {},
   "source": [
    "## Good programming\n",
    "- more code is not necessarily a good thing\n",
    "- measure good programmers by the amount of functionality\n",
    "- introduce **functions**\n",
    "- mechanism to achieve **decomposition** and **abstraction**"
   ]
  },
  {
   "cell_type": "markdown",
   "metadata": {},
   "source": [
    "## Example - projector\n",
    "- a projector is a **black box**\n",
    "    - don't know how it works\n",
    "    - know the interface: input/output\n",
    "    - connect any electronic to it that can communicate with that input\n",
    "- black box somehow converts image from input source to a wall, magnifying it\n",
    "- **abstraction idea:** do not need to know how projector works to use it"
   ]
  },
  {
   "cell_type": "markdown",
   "metadata": {},
   "source": [
    "- projecting large image for Olympics decomposed into separate tasks for separate projectors\n",
    "- each projector takes input and produces separate output\n",
    "- all projectors work together to produce larger image\n",
    "- **decomposition idea:** different devices work together to achieve an end goal"
   ]
  },
  {
   "cell_type": "markdown",
   "metadata": {},
   "source": [
    "## Create structure with **Decomposition**\n",
    "- in projector example, separate devices\n",
    "- in programming, divide code into **modules**\n",
    "    - are **self-contained**\n",
    "    - used to **break up** code\n",
    "    - intended to be **reusable**\n",
    "    - keep code **organized**\n",
    "    - keep code **coherent**\n",
    "- this lecture, achieve decomposition with **functions**\n",
    "- in a few weeks, achieve decomposition with **classes**"
   ]
  },
  {
   "cell_type": "markdown",
   "metadata": {},
   "source": [
    "## Suppress details with **Abstraction**\n",
    "- in projector example, instructions for how to use it are sufficient, no need to know how to build one\n",
    "- in programming, think of a piece of code as a **black box**\n",
    "    - cannot see details\n",
    "    - do not need to see details\n",
    "    - do not want to see details\n",
    "    - hide tedious coding details\n",
    "- achieve abstraction with **function specifications** or **docstrings**"
   ]
  },
  {
   "cell_type": "markdown",
   "metadata": {},
   "source": [
    "## Functions\n",
    "- write reusable pieces/chunks of code, called **functions**\n",
    "- functions are not run in a program until they are \"**called**\" or \"**invoked**\" in a program\n",
    "- function characteristics:\n",
    "    - has a **name**\n",
    "    - has **parameters** (0 or more)\n",
    "    - has a **docstring** (optional but recommended)\n",
    "    - has a **body**\n",
    "    - **returns** something"
   ]
  },
  {
   "cell_type": "markdown",
   "metadata": {},
   "source": [
    "## How to write and call/invoke a function"
   ]
  },
  {
   "cell_type": "code",
   "execution_count": 2,
   "metadata": {},
   "outputs": [
    {
     "name": "stdout",
     "output_type": "stream",
     "text": [
      "inside is_even\n"
     ]
    },
    {
     "data": {
      "text/plain": [
       "False"
      ]
     },
     "execution_count": 2,
     "metadata": {},
     "output_type": "execute_result"
    }
   ],
   "source": [
    "def is_even(i):\n",
    "    \"\"\"\n",
    "    Input: i, a positive int\n",
    "    Returns True if i is even, otherwise False\n",
    "    \"\"\"\n",
    "    print(\"inside is_even\")\n",
    "    return i%2 == 0\n",
    "\n",
    "is_even(3)"
   ]
  },
  {
   "cell_type": "markdown",
   "metadata": {},
   "source": [
    "## Variable Scope\n",
    "- **formal parameter** gets bound to the value of **actual parameter** when function is called\n",
    "- new **scope/frame/environment** created when enter a function\n",
    "- **scope** is mapping of names to objects"
   ]
  },
  {
   "cell_type": "code",
   "execution_count": 6,
   "metadata": {},
   "outputs": [
    {
     "name": "stdout",
     "output_type": "stream",
     "text": [
      "in f(x): x = 4\n"
     ]
    }
   ],
   "source": [
    "# global scope\n",
    "def f(x): # x is formal parameter (arguments for definition of function --> no value yet)\n",
    "    # f (local) scope\n",
    "    x = x + 1\n",
    "    print('in f(x): x =', x)\n",
    "    return x\n",
    "\n",
    "x = 3\n",
    "z = f(x) # x is actual parameter (now it actually has a value)"
   ]
  },
  {
   "cell_type": "markdown",
   "metadata": {},
   "source": [
    "## one warning if NO return statement"
   ]
  },
  {
   "cell_type": "code",
   "execution_count": 7,
   "metadata": {},
   "outputs": [],
   "source": [
    "def is_even(i):\n",
    "    \"\"\"\n",
    "    Input: i, a positive int\n",
    "    Does not return anything\n",
    "    \"\"\"\n",
    "    i%2 == 0\n",
    "    # without a return statement"
   ]
  },
  {
   "cell_type": "code",
   "execution_count": 8,
   "metadata": {},
   "outputs": [],
   "source": [
    "is_even(2)"
   ]
  },
  {
   "cell_type": "markdown",
   "metadata": {},
   "source": [
    "- Python returns the value **None, if no return is given**\n",
    "- represents the absence of a value"
   ]
  },
  {
   "cell_type": "markdown",
   "metadata": {},
   "source": [
    "## return vs print\n",
    "- return\n",
    "    - return only has meaning **inside** a function\n",
    "    - only **one** return executed inside a function\n",
    "    - code inside function but after return statement not executed\n",
    "    - has a value associated with it, **given to function caller**\n",
    "- print\n",
    "    - print can be used **outside** functions\n",
    "    - can execute **many** print statements inside a function\n",
    "    - code inside function can be executed after a print statement\n",
    "    - has a value associated with it, **outputted** to the console"
   ]
  },
  {
   "cell_type": "markdown",
   "metadata": {},
   "source": [
    "## functions as arguments"
   ]
  },
  {
   "cell_type": "code",
   "execution_count": 12,
   "metadata": {},
   "outputs": [
    {
     "name": "stdout",
     "output_type": "stream",
     "text": [
      "inside func_a\n",
      "None\n",
      "inside func_b\n",
      "7\n",
      "inside func_c\n",
      "<function func_a at 0x000001D2010D98B8>\n"
     ]
    }
   ],
   "source": [
    "def func_a():\n",
    "    print('inside func_a')\n",
    "    # returns none\n",
    "def func_b(y):\n",
    "    print('inside func_b')\n",
    "    return y\n",
    "def func_c(z):\n",
    "    print('inside func_c')\n",
    "    return z\n",
    "\n",
    "print(func_a())\n",
    "print(5 + func_b(2))\n",
    "print(func_c(func_a))"
   ]
  },
  {
   "cell_type": "markdown",
   "metadata": {},
   "source": [
    "## scope example\n",
    "- inside a function, **can access** a variable defined outside\n",
    "- inside a function, **cannot modify** a variable defined outside-- can using **global variables**, but frowned upon"
   ]
  },
  {
   "cell_type": "code",
   "execution_count": 13,
   "metadata": {},
   "outputs": [
    {
     "name": "stdout",
     "output_type": "stream",
     "text": [
      "2\n",
      "5\n"
     ]
    }
   ],
   "source": [
    "def f(y):\n",
    "    # x is redefined in scope of f\n",
    "    x = 1\n",
    "    x += 1\n",
    "    print(x)\n",
    "\n",
    "x = 5\n",
    "f(x)\n",
    "print(x) # different x objects"
   ]
  },
  {
   "cell_type": "code",
   "execution_count": 14,
   "metadata": {},
   "outputs": [
    {
     "name": "stdout",
     "output_type": "stream",
     "text": [
      "5\n",
      "6\n",
      "5\n"
     ]
    }
   ],
   "source": [
    "def g(y): \n",
    "    # x from outside g\n",
    "    print(x)\n",
    "    print(x + 1)\n",
    "\n",
    "x = 5\n",
    "g(x)\n",
    "print(x) # x inside g is picked up from sco[e that called function g]"
   ]
  },
  {
   "cell_type": "code",
   "execution_count": 15,
   "metadata": {},
   "outputs": [
    {
     "ename": "UnboundLocalError",
     "evalue": "local variable 'x' referenced before assignment",
     "output_type": "error",
     "traceback": [
      "\u001b[1;31m---------------------------------------------------------------------------\u001b[0m",
      "\u001b[1;31mUnboundLocalError\u001b[0m                         Traceback (most recent call last)",
      "\u001b[1;32m<ipython-input-15-e6f90c231c12>\u001b[0m in \u001b[0;36m<module>\u001b[1;34m\u001b[0m\n\u001b[0;32m      3\u001b[0m \u001b[1;33m\u001b[0m\u001b[0m\n\u001b[0;32m      4\u001b[0m \u001b[0mx\u001b[0m \u001b[1;33m=\u001b[0m \u001b[1;36m5\u001b[0m\u001b[1;33m\u001b[0m\u001b[1;33m\u001b[0m\u001b[0m\n\u001b[1;32m----> 5\u001b[1;33m \u001b[0mh\u001b[0m\u001b[1;33m(\u001b[0m\u001b[0mx\u001b[0m\u001b[1;33m)\u001b[0m\u001b[1;33m\u001b[0m\u001b[1;33m\u001b[0m\u001b[0m\n\u001b[0m\u001b[0;32m      6\u001b[0m \u001b[0mprint\u001b[0m\u001b[1;33m(\u001b[0m\u001b[0mx\u001b[0m\u001b[1;33m)\u001b[0m \u001b[1;31m# UnboundLocalError: local variable 'x' referenced before assignment\u001b[0m\u001b[1;33m\u001b[0m\u001b[1;33m\u001b[0m\u001b[0m\n",
      "\u001b[1;32m<ipython-input-15-e6f90c231c12>\u001b[0m in \u001b[0;36mh\u001b[1;34m(y)\u001b[0m\n\u001b[0;32m      1\u001b[0m \u001b[1;32mdef\u001b[0m \u001b[0mh\u001b[0m\u001b[1;33m(\u001b[0m\u001b[0my\u001b[0m\u001b[1;33m)\u001b[0m\u001b[1;33m:\u001b[0m\u001b[1;33m\u001b[0m\u001b[1;33m\u001b[0m\u001b[0m\n\u001b[1;32m----> 2\u001b[1;33m     \u001b[0mx\u001b[0m \u001b[1;33m+=\u001b[0m \u001b[1;36m1\u001b[0m\u001b[1;33m\u001b[0m\u001b[1;33m\u001b[0m\u001b[0m\n\u001b[0m\u001b[0;32m      3\u001b[0m \u001b[1;33m\u001b[0m\u001b[0m\n\u001b[0;32m      4\u001b[0m \u001b[0mx\u001b[0m \u001b[1;33m=\u001b[0m \u001b[1;36m5\u001b[0m\u001b[1;33m\u001b[0m\u001b[1;33m\u001b[0m\u001b[0m\n\u001b[0;32m      5\u001b[0m \u001b[0mh\u001b[0m\u001b[1;33m(\u001b[0m\u001b[0mx\u001b[0m\u001b[1;33m)\u001b[0m\u001b[1;33m\u001b[0m\u001b[1;33m\u001b[0m\u001b[0m\n",
      "\u001b[1;31mUnboundLocalError\u001b[0m: local variable 'x' referenced before assignment"
     ]
    }
   ],
   "source": [
    "def h(y):\n",
    "    x += 1\n",
    "\n",
    "x = 5\n",
    "h(x)\n",
    "print(x) # UnboundLocalError: local variable 'x' referenced before assignment"
   ]
  },
  {
   "cell_type": "markdown",
   "metadata": {},
   "source": [
    "**note:** Python Tutor is a helpful resource!\n",
    "http://www.pythontutor.com/"
   ]
  },
  {
   "cell_type": "markdown",
   "metadata": {},
   "source": [
    "## scope details"
   ]
  },
  {
   "cell_type": "code",
   "execution_count": 17,
   "metadata": {},
   "outputs": [
    {
     "name": "stdout",
     "output_type": "stream",
     "text": [
      "g: x = 4\n",
      "4\n"
     ]
    }
   ],
   "source": [
    "def g(x):\n",
    "    def h():\n",
    "        x = 'abc'\n",
    "        # but returns none\n",
    "    x = x + 1\n",
    "    print('g: x =', x)\n",
    "    h()\n",
    "    return x\n",
    "\n",
    "x = 3\n",
    "z = g(x)\n",
    "print(z)"
   ]
  },
  {
   "cell_type": "markdown",
   "metadata": {},
   "source": [
    "- global scope:\n",
    "    - g: some code\n",
    "    - x: 3\n",
    "    - z: g(x) ( a function call --> created a new scope)\n",
    "- g scope\n",
    "    - x: 3\n",
    "    - h: some code\n",
    "    - x: 4\n",
    "    - h() (a function call --> created a new scope)\n",
    "- h scope\n",
    "    - x: 'abc'\n",
    "    - None\n",
    "- g scope\n",
    "    - returns 4\n",
    "- global scope:\n",
    "    - z: 4"
   ]
  },
  {
   "cell_type": "markdown",
   "metadata": {},
   "source": [
    "## Decomposition and Abstraction\n",
    "- powerful together\n",
    "- can be used many times but only has to be debugged once!"
   ]
  },
  {
   "cell_type": "code",
   "execution_count": null,
   "metadata": {},
   "outputs": [],
   "source": []
  }
 ],
 "metadata": {
  "kernelspec": {
   "display_name": "Python 3",
   "language": "python",
   "name": "python3"
  },
  "language_info": {
   "codemirror_mode": {
    "name": "ipython",
    "version": 3
   },
   "file_extension": ".py",
   "mimetype": "text/x-python",
   "name": "python",
   "nbconvert_exporter": "python",
   "pygments_lexer": "ipython3",
   "version": "3.7.6"
  }
 },
 "nbformat": 4,
 "nbformat_minor": 4
}
