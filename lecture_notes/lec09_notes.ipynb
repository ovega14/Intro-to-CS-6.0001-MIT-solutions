{
 "cells": [
  {
   "cell_type": "markdown",
   "metadata": {},
   "source": [
    "# 6.0001 Lecture 9: Python Classes and Inheritance"
   ]
  },
  {
   "cell_type": "markdown",
   "metadata": {},
   "source": [
    "**Speaker:** Dr. Ana Bell"
   ]
  },
  {
   "cell_type": "markdown",
   "metadata": {},
   "source": [
    "## Last Time:\n",
    "- abstract data types through **classes**\n",
    "- *Coordinate* example\n",
    "- *Fraction* example"
   ]
  },
  {
   "cell_type": "markdown",
   "metadata": {},
   "source": [
    "## Today:\n",
    "- more on classes\n",
    "    - getters and setters\n",
    "    - information hiding\n",
    "    - class variables\n",
    "- inheritance"
   ]
  },
  {
   "cell_type": "markdown",
   "metadata": {},
   "source": [
    "## Implementing the Class vs Using the Class\n",
    "- write code from two different perspectives:\n",
    "    - **implementing** a new object type with a class\n",
    "        - **define** the class\n",
    "        - define **data attributes** (WHAT IS the object)\n",
    "        - define **methods** (HOW TO use the object)\n",
    "    - **using** the new object in code\n",
    "        - create **instances** of the object tyoe\n",
    "        - do **operations** with them\n",
    "        "
   ]
  },
  {
   "cell_type": "markdown",
   "metadata": {},
   "source": [
    "## Class Definition of an Object type\n",
    "- class name is the **type**\n",
    "    - class Coordinate(object)\n",
    "- class is defined generically\n",
    "    - use *self* to refer to some instance while defining the class\n",
    "        - (self.x - self.y)**2\n",
    "    - *self* is a parameter to methods in class definition\n",
    "- class defines data and methods **common across all instances**"
   ]
  },
  {
   "cell_type": "markdown",
   "metadata": {},
   "source": [
    "## Instance of a Class\n",
    "- instance is **one specific** object\n",
    "    - coord = Coordinate(1,2)\n",
    "- data attribute values vary between instances\n",
    "    - c1 = Coordinate(1,2)\n",
    "    - c2 = Coordinate(3,4)\n",
    "    - c1 and c2 have different data attribute values c1.x and c2.x because they are different objects\n",
    "- instance has the **structure of the class**"
   ]
  },
  {
   "cell_type": "markdown",
   "metadata": {},
   "source": [
    "## Why use OOP and Classes of objects?\n",
    "- mimic real life\n",
    "- group different objects part of the same type\n",
    "- for example:\n",
    "    - object: cat\n",
    "        - name: Jelly\n",
    "        - age: 1 year\n",
    "        - color: brown\n",
    "    - object: rabbit\n",
    "        - age: 5 years\n",
    "        - color: brown"
   ]
  },
  {
   "cell_type": "markdown",
   "metadata": {},
   "source": [
    "## Groups of objects have attributes (recap)\n",
    "- **data attributes**\n",
    "    - how can you represent your object with data?\n",
    "    - **what it is**\n",
    "    - for a coordinate: x and y values\n",
    "    - for an animal: age, name\n",
    "- **procedural attributes** (behavior/operations/**methods**)\n",
    "    - how can someone interact with the object\n",
    "    - **what it does**\n",
    "    - for a coordinate: find distance between two\n",
    "    - for an animal: make a sound"
   ]
  },
  {
   "cell_type": "markdown",
   "metadata": {},
   "source": [
    "## How to define a class (recap)"
   ]
  },
  {
   "cell_type": "code",
   "execution_count": 1,
   "metadata": {},
   "outputs": [],
   "source": [
    "# class definition\n",
    "class Animal(object):\n",
    "    # special method to create an instance\n",
    "    def __init__(self, age):\n",
    "        self.age = age\n",
    "        self.name = None # name is a data attribute even though an instance is not initialized with it\n",
    "\n",
    "myanimal= Animal(3) # mapped to self.age in class definition"
   ]
  },
  {
   "cell_type": "markdown",
   "metadata": {},
   "source": [
    "## Getter and setter methods"
   ]
  },
  {
   "cell_type": "code",
   "execution_count": 2,
   "metadata": {},
   "outputs": [],
   "source": [
    "class Animal(object):\n",
    "    def __init__(self, age):\n",
    "        self.age = age\n",
    "        self.name = None\n",
    "    # getters\n",
    "    def get_age(self):\n",
    "        return self.age\n",
    "    def get_name(self):\n",
    "        return self.name\n",
    "    # setters\n",
    "    def set_age(self, newage):\n",
    "        self.age = newage\n",
    "    def set_name(self, newname=\"\"):\n",
    "        self.name = newname\n",
    "    def __str__(self):\n",
    "        return \"animal:\" + str(self.name) + \":\" + str(self.age)       "
   ]
  },
  {
   "cell_type": "markdown",
   "metadata": {},
   "source": [
    "- **getters and setters** should be used outside of class to access data attributes\n",
    "    - will prevent bugs later on if implementation changes"
   ]
  },
  {
   "cell_type": "markdown",
   "metadata": {},
   "source": [
    "## an instance and dot notation (recap)\n",
    "- instantiation creates an **instance of an object**\n",
    "    - a = Animal(3)\n",
    "- **dot notation** used to access attributes (data and methods) though it is better to use getters and setters to access data attributes"
   ]
  },
  {
   "cell_type": "code",
   "execution_count": 3,
   "metadata": {},
   "outputs": [
    {
     "name": "stdout",
     "output_type": "stream",
     "text": [
      "3\n",
      "3\n"
     ]
    }
   ],
   "source": [
    "a = Animal(3)\n",
    "\n",
    "print(a.age) # access data attribute; allowed, but NOT recommended\n",
    "print(a.get_age()) # access method; best to use getters and setters"
   ]
  },
  {
   "cell_type": "markdown",
   "metadata": {},
   "source": [
    "## Information Hiding\n",
    "- author of class definition may **change data attribute** variable names"
   ]
  },
  {
   "cell_type": "code",
   "execution_count": 4,
   "metadata": {},
   "outputs": [],
   "source": [
    "class Anima(object):\n",
    "    def __init__(self, age):\n",
    "        self.years = age # replaced 'age' data attribute by 'years'\n",
    "    def get_age(self):\n",
    "        return self.years"
   ]
  },
  {
   "cell_type": "markdown",
   "metadata": {},
   "source": [
    "- if you are **accessing data attributes** outside the class and class **definition changes**, may get errors\n",
    "- outside of class, use getters and setters instead\n",
    "- i.e. use a.get_age() NOT a.age\n",
    "    - good style\n",
    "    - easy to maintain code\n",
    "    - prevents bugs"
   ]
  },
  {
   "cell_type": "markdown",
   "metadata": {},
   "source": [
    "## Python not great at information hiding\n",
    "- allows you to **access data** from outside class definition\n",
    "    - print(a.age)\n",
    "- allows you to **write to data** from outside class definition\n",
    "    - a.age = 'infinite'\n",
    "- allows you to **create data attributes** for an instance from outside class definition\n",
    "    - a.size = \"tiny\"\n",
    "- it is **NOT good style** to do any of these!!"
   ]
  },
  {
   "cell_type": "markdown",
   "metadata": {},
   "source": [
    "## Default Arguments\n",
    "- **default arguments** for formal parameters are used if on actual argument is given"
   ]
  },
  {
   "cell_type": "code",
   "execution_count": 5,
   "metadata": {},
   "outputs": [],
   "source": [
    "def set_name(self, newname=\"\"):\n",
    "    self.name = newname"
   ]
  },
  {
   "cell_type": "markdown",
   "metadata": {},
   "source": [
    "- default argument used here"
   ]
  },
  {
   "cell_type": "code",
   "execution_count": 6,
   "metadata": {},
   "outputs": [
    {
     "name": "stdout",
     "output_type": "stream",
     "text": [
      "\n"
     ]
    }
   ],
   "source": [
    "a = Animal(3)\n",
    "a.set_name()\n",
    "print(a.get_name()) # prints \"\""
   ]
  },
  {
   "cell_type": "markdown",
   "metadata": {},
   "source": [
    "- argument passed in is used here"
   ]
  },
  {
   "cell_type": "code",
   "execution_count": 7,
   "metadata": {},
   "outputs": [
    {
     "name": "stdout",
     "output_type": "stream",
     "text": [
      "fluffy\n"
     ]
    }
   ],
   "source": [
    "a = Animal(3)\n",
    "a.set_name(\"fluffy\")\n",
    "print(a.get_name()) # now prints the name \"fluffy\""
   ]
  },
  {
   "cell_type": "markdown",
   "metadata": {},
   "source": [
    "## Hierarchies\n",
    "- **parent class** (superclass)\n",
    "- **child class** (subclass)\n",
    "    - **inherits** all data and behaviors of parent class\n",
    "    - **add** more info\n",
    "    - **add** more behavior\n",
    "    - **override** behavior"
   ]
  },
  {
   "cell_type": "markdown",
   "metadata": {},
   "source": [
    "## Inheritance: Parent Class"
   ]
  },
  {
   "cell_type": "code",
   "execution_count": 8,
   "metadata": {},
   "outputs": [],
   "source": [
    "# the Animal parent class\n",
    "class Animal(object):\n",
    "    def __init__(self, age):\n",
    "        self.age = age\n",
    "        self.name = None\n",
    "    def get_age(self):\n",
    "        return self.age\n",
    "    def get_name(self):\n",
    "        return self.name\n",
    "    def set_age(self, newage):\n",
    "        self.age = newage\n",
    "    def set_name(self, newname=\"\"):\n",
    "        self.name = newname\n",
    "    def __str__(self):\n",
    "        return \"animal\" + str(self.name) + \":\" + str(self.age)"
   ]
  },
  {
   "cell_type": "markdown",
   "metadata": {},
   "source": [
    "## Inheritance: Subclass"
   ]
  },
  {
   "cell_type": "code",
   "execution_count": 9,
   "metadata": {},
   "outputs": [],
   "source": [
    "class Cat(Animal): # inherits all attributes of Animal\n",
    "    # add new functionality via 'speak' method\n",
    "    def speak(self):\n",
    "        print(\"meow\")\n",
    "    # overrides __str__\n",
    "    def __str__(self):\n",
    "        return \"cat\" + str(self.name) + \":\" + str(self.age)"
   ]
  },
  {
   "cell_type": "markdown",
   "metadata": {},
   "source": [
    "- add new functionality with *speak()*\n",
    "    - instance of type *Cat* can be called with new methods\n",
    "    - instance of type *Animal* throws error if called with *Cat*'s new method\n",
    "- *_ _init_ _* is not missing, uses the *Animal* version"
   ]
  },
  {
   "cell_type": "markdown",
   "metadata": {},
   "source": [
    "## Which method to use?\n",
    "- subclass can have **methods with same name** as superclass\n",
    "- for an instance of a class, look for a method name in **current class definition**\n",
    "- if not found, look for method name **up the hierarchy** (in parent, then grandparent, and so on)\n",
    "- use first method up the hierarchy that you found with that method name"
   ]
  },
  {
   "cell_type": "code",
   "execution_count": 10,
   "metadata": {},
   "outputs": [],
   "source": [
    "# parent class is Animal\n",
    "class Person(Animal):\n",
    "    def __init__(self, name, age):\n",
    "        # call Animal constructor, call Animal's method, add a new attribute\n",
    "        Animal.__init__(self, age)\n",
    "        self.set_name(name)\n",
    "        self.friends = []\n",
    "    # new methods\n",
    "    def get_friends(self):\n",
    "        return self.friends\n",
    "    def add_friend(self, fname):\n",
    "        if fname not in self.friends:\n",
    "            self.friends.append(fname)\n",
    "    def speak(self):\n",
    "        print(\"hello\")\n",
    "    def age_diff(self, other):\n",
    "        diff = self.age - other.age\n",
    "        print(abs(diff), \"year difference\")\n",
    "    # override Animal's __str__ method\n",
    "    def __str__(self):\n",
    "        return \"persion:\" + str(self.name) + \":\" + str(self.age)"
   ]
  },
  {
   "cell_type": "code",
   "execution_count": 13,
   "metadata": {},
   "outputs": [],
   "source": [
    "# bring in methods from random class\n",
    "import random\n",
    "\n",
    "# inherits person attributes --> therefore inherits animal attributes\n",
    "class Student(Person):\n",
    "    def __init__(self, name, age, major=None):\n",
    "        Person.__init__(self, name, age)\n",
    "        self.major = major # adds new data\n",
    "    def change_major(self, major):\n",
    "        self.major = major\n",
    "    def speak(self):\n",
    "        r = random.random()\n",
    "        if r < 0.25:\n",
    "            print(\"i have homework\")\n",
    "        elif 0.25 <= r < 0.5:\n",
    "            print(\"i need sleep\")\n",
    "        elif 0.5 <= r <0.75:\n",
    "            print(\"i should eat\")\n",
    "        else:\n",
    "            print(\"i am watching tv\")\n",
    "    def __str__(self):\n",
    "        return \"student:\" + str(self.name) + \":\" + str(self.age) + \":\" + str(self.major)"
   ]
  },
  {
   "cell_type": "code",
   "execution_count": 14,
   "metadata": {},
   "outputs": [
    {
     "name": "stdout",
     "output_type": "stream",
     "text": [
      "student:alice:20:CS\n",
      "student:beth:18:None\n",
      "alice says: i have homework\n",
      "beth says: i need sleep\n"
     ]
    }
   ],
   "source": [
    "s1 = Student('alice', 20, \"CS\")\n",
    "s2 = Student('beth', 18)\n",
    "print(s1)\n",
    "print(s2)\n",
    "print(s1.get_name(), \"says:\", end=\" \")\n",
    "s1.speak()\n",
    "print(s2.get_name(), \"says:\", end=\" \")\n",
    "s2.speak()"
   ]
  },
  {
   "cell_type": "markdown",
   "metadata": {},
   "source": [
    "## Class variables and the *Rabbit* subclass\n",
    "- **class variables** and their values are shared between all instances of a class"
   ]
  },
  {
   "cell_type": "code",
   "execution_count": 15,
   "metadata": {},
   "outputs": [],
   "source": [
    "class Rabbit(Animal):\n",
    "    tag = 1 # class variable\n",
    "    def __init__(self, age, parent1=None, parent2=None):\n",
    "        Animal.__init__(self, age)\n",
    "        self.parent1 = parent1\n",
    "        self.parent2 = parent2\n",
    "        # instance variable\n",
    "        self.rid = Rabbit.tag # access class variable\n",
    "        Rabbit.tag += 1 # incrementing class variable changes it for all instances that may reference it"
   ]
  },
  {
   "cell_type": "markdown",
   "metadata": {},
   "source": [
    "- *tag* used to give **unique ID** to each new rabbit instance"
   ]
  },
  {
   "cell_type": "markdown",
   "metadata": {},
   "source": [
    "## Rabbit getter methods"
   ]
  },
  {
   "cell_type": "code",
   "execution_count": 16,
   "metadata": {},
   "outputs": [],
   "source": [
    "class Rabbit(Animal):\n",
    "    tag = 1\n",
    "    def __init__(self, age, parent1=None, parent2=None):\n",
    "        Animal.__init__(self, age)\n",
    "        self.parent1 = parent1\n",
    "        self.parent2 = parent2\n",
    "        self.rid = Rabbit.tag\n",
    "        Rabbit.tag += 1\n",
    "    # getter methods specific for a Rabbit class; there are also get_name and get_age inherited\n",
    "    def get_rid(self):\n",
    "        return str(self.rid).zfill(3) # method on a string to pad beginning with zeros, i.e. 001\n",
    "    def get_parent1(self):\n",
    "        return self.parent1\n",
    "    def get_parent2(self):\n",
    "        return self.parent2"
   ]
  },
  {
   "cell_type": "markdown",
   "metadata": {},
   "source": [
    "## Working with your own types"
   ]
  },
  {
   "cell_type": "code",
   "execution_count": 17,
   "metadata": {},
   "outputs": [],
   "source": [
    "def __add__(self, other):\n",
    "    # returning object of same type as this class\n",
    "    return Rabbit(0, self, other) # so self and other become the 2 parents of the new rabbit\n",
    "# recall Rabbit's __init__(self, age, parent1=None, parent2=None)"
   ]
  },
  {
   "cell_type": "markdown",
   "metadata": {},
   "source": [
    "- define **+ operator** between two *Rabbit* instances\n",
    "    - define what something like this does: r4 = r1 + r2, where r1 and r2 are *Rabbit* instances\n",
    "    - r4 is new *Rabbit* instance with age 0\n",
    "    - r4 has *self* as one parent and *other* as the other parent\n",
    "    - in *_ _init_ _*, **parent 1 and parent2 are of type *Rabbit***"
   ]
  },
  {
   "cell_type": "markdown",
   "metadata": {},
   "source": [
    "## Special method to compare two rabbits\n",
    "- decide that two rabbits are equal if they have the **same two parents**"
   ]
  },
  {
   "cell_type": "code",
   "execution_count": 18,
   "metadata": {},
   "outputs": [],
   "source": [
    "def __eq__(self, other):\n",
    "    parents_same = self.parent1.rid == other.parent1.rid \\\n",
    "                    and self.parent2.rid == other.parent2.rid\n",
    "    parents_opposite = self.parent2.rid == other.parent1.rid \\\n",
    "                        and self.parent1.rid == other.parent2.rid\n",
    "    return parents_same or parents_opposite"
   ]
  },
  {
   "cell_type": "markdown",
   "metadata": {},
   "source": [
    "- compare ids of parents since **ids are unique** (due to class var)\n",
    "- note you can't compare objects directly\n",
    "    - for ex. with self.parent1 == other.parent1\n",
    "    - this calls the _ _eq_ _ method over and over until call it on None and gives an AttributeError when it tries to do None.parent1"
   ]
  },
  {
   "cell_type": "markdown",
   "metadata": {},
   "source": [
    "## Object Oriented Programming\n",
    "- create your own **collections of data**\n",
    "- **organize** information\n",
    "- **division** of work\n",
    "- access information in a **consistent** manner\n",
    "- add **layers** of complexity\n",
    "- like functions, classes are a mechanism for **decomposition** and **abstraction** in programming"
   ]
  },
  {
   "cell_type": "code",
   "execution_count": null,
   "metadata": {},
   "outputs": [],
   "source": []
  }
 ],
 "metadata": {
  "kernelspec": {
   "display_name": "Python 3",
   "language": "python",
   "name": "python3"
  },
  "language_info": {
   "codemirror_mode": {
    "name": "ipython",
    "version": 3
   },
   "file_extension": ".py",
   "mimetype": "text/x-python",
   "name": "python",
   "nbconvert_exporter": "python",
   "pygments_lexer": "ipython3",
   "version": "3.7.6"
  }
 },
 "nbformat": 4,
 "nbformat_minor": 4
}
