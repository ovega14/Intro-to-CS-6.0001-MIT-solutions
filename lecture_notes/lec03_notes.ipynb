{
 "cells": [
  {
   "cell_type": "markdown",
   "metadata": {},
   "source": [
    "# 6.0001 Lecture 3: String Manipulation, Guess and Check, Approximations, Bisection"
   ]
  },
  {
   "cell_type": "markdown",
   "metadata": {},
   "source": [
    "**Speaker: Dr. Ana Bell**"
   ]
  },
  {
   "cell_type": "markdown",
   "metadata": {},
   "source": [
    "## Last Time\n",
    "- strings\n",
    "- branching: if/elif/else\n",
    "- while loops\n",
    "- for loops\n"
   ]
  },
  {
   "cell_type": "markdown",
   "metadata": {},
   "source": [
    "## Today\n",
    "- string manipulation\n",
    "- guess and check algos\n",
    "- approximate solutions\n",
    "- bisection method"
   ]
  },
  {
   "cell_type": "markdown",
   "metadata": {},
   "source": [
    "## Strings\n",
    "- think of as a **sequence** of case sensitive characters\n",
    "- can compare strings with ==, <, >, etc.\n",
    "- len() is a function used to retrieve the **length** (# of characters) of the string in the parentheses"
   ]
  },
  {
   "cell_type": "code",
   "execution_count": 1,
   "metadata": {},
   "outputs": [
    {
     "data": {
      "text/plain": [
       "3"
      ]
     },
     "execution_count": 1,
     "metadata": {},
     "output_type": "execute_result"
    }
   ],
   "source": [
    "s = \"abc\"\n",
    "len(s) # evaluates to 3"
   ]
  },
  {
   "cell_type": "markdown",
   "metadata": {},
   "source": [
    "- square brackets used to perform **indexing** into a string to get the value at a certain index / position\n",
    "    - index always starts at 0\n",
    "    - last element always at index -1\n"
   ]
  },
  {
   "cell_type": "code",
   "execution_count": 2,
   "metadata": {},
   "outputs": [
    {
     "name": "stdout",
     "output_type": "stream",
     "text": [
      "a\n",
      "b\n",
      "c\n",
      "c\n",
      "b\n",
      "a\n"
     ]
    }
   ],
   "source": [
    "s = \"abc\"\n",
    "\n",
    "print(s[0])\n",
    "print(s[1])\n",
    "print(s[2])\n",
    "#print(s[3]) will give an error, because there is no character at position 3 (starting at zero)\n",
    "print(s[-1])\n",
    "print(s[-2])\n",
    "print(s[-3])"
   ]
  },
  {
   "cell_type": "markdown",
   "metadata": {},
   "source": [
    "- can **slice** strings using [start:stop:step]\n",
    "- if give two numbers, [start:stop], step=1 by default\n",
    "- you can also omit numbers and leave just colons"
   ]
  },
  {
   "cell_type": "code",
   "execution_count": 3,
   "metadata": {},
   "outputs": [
    {
     "name": "stdout",
     "output_type": "stream",
     "text": [
      "def\n",
      "df\n",
      "abcdefgh\n",
      "hgfedcba\n",
      "ec\n"
     ]
    }
   ],
   "source": [
    "s = \"abcdefgh\"\n",
    "\n",
    "print(s[3:6])\n",
    "print(s[3:6:2]) # every other character in the range\n",
    "print(s[::]) # the full string\n",
    "print(s[::-1]) # the full string, but reversed\n",
    "print(s[4:1:-2]) #every other in the range, but reversed"
   ]
  },
  {
   "cell_type": "markdown",
   "metadata": {},
   "source": [
    "- strings are **\"immutable\"**, i.e. cannot be modified"
   ]
  },
  {
   "cell_type": "code",
   "execution_count": 4,
   "metadata": {},
   "outputs": [
    {
     "name": "stdout",
     "output_type": "stream",
     "text": [
      "yello\n"
     ]
    }
   ],
   "source": [
    "s = \"hello\"\n",
    "\n",
    "# s[0] = y --> this will give an error, because we cannot modify (reassign a character) in string\n",
    "\n",
    "# however, this is allowed, since we bind s to new object\n",
    "s = \"y\" + s[1:len(s)]\n",
    "print(s)"
   ]
  },
  {
   "cell_type": "markdown",
   "metadata": {},
   "source": [
    "## for Loops Recap\n",
    "- for loops have a **loop variable** that iterates over a set of values\n",
    "\n",
    "    for var in range(4): # var iterates over values 0, 1, 2, 3\n",
    "    \n",
    "        [expressions]\n",
    "        \n",
    "    for var in range(4, 6): # var iterates over values 4, 5\n",
    "        \n",
    "        [expressions]\n",
    "- range is a way to iterate over numbers, but a for loop variable can **iterate over any set of values**, not just numbers!"
   ]
  },
  {
   "cell_type": "markdown",
   "metadata": {},
   "source": [
    "## Strings and Loops\n",
    "- these two code snippets do the same thing\n",
    "- bottom one is more \"pythonic\" (more readable)"
   ]
  },
  {
   "cell_type": "code",
   "execution_count": 5,
   "metadata": {},
   "outputs": [],
   "source": [
    "s = \"abcdefgh\"\n",
    "\n",
    "# both of these do the same thing\n",
    "for index in range(len(s)):\n",
    "    if s[index] == 'i' or s[index] == 'u': # harder to decipher\n",
    "        print(\"There is an i or u\")\n",
    "        \n",
    "for char in s:\n",
    "    if char == 'i' or char == 'u': # more readable\n",
    "        print(\"There is an i or u\")"
   ]
  },
  {
   "cell_type": "markdown",
   "metadata": {},
   "source": [
    "## Code example: Robot Cheerleaders"
   ]
  },
  {
   "cell_type": "code",
   "execution_count": 6,
   "metadata": {},
   "outputs": [
    {
     "name": "stdout",
     "output_type": "stream",
     "text": [
      "I will cheer for you! Enter a word: robot\n",
      "Enthusiasm level (1-10): 6\n",
      "Give me an r! r\n",
      "Give me an o! o\n",
      "Give me a b! b\n",
      "Give me an o! o\n",
      "Give me a t! t\n",
      "What does that spell?\n",
      "robot !!!\n",
      "robot !!!\n",
      "robot !!!\n",
      "robot !!!\n",
      "robot !!!\n",
      "robot !!!\n"
     ]
    }
   ],
   "source": [
    "# non-pythonic way\n",
    "an_letters = \"aefhilmnorsxAEFHILMNORSX\"\n",
    "\n",
    "word = input(\"I will cheer for you! Enter a word: \")\n",
    "times = int(input(\"Enthusiasm level (1-10): \"))\n",
    "\n",
    "i = 0\n",
    "while i < len(word):\n",
    "    char = word[i]\n",
    "    if char in an_letters:\n",
    "        print(\"Give me an \" + char + \"! \" + char)\n",
    "    else:\n",
    "        print(\"Give me a \" + char + \"! \" + char)\n",
    "    i += 1\n",
    "print(\"What does that spell?\")\n",
    "for i in range(times):\n",
    "    print(word, \"!!!\")"
   ]
  },
  {
   "cell_type": "code",
   "execution_count": 7,
   "metadata": {},
   "outputs": [
    {
     "name": "stdout",
     "output_type": "stream",
     "text": [
      "I will cheer for you! Enter a word: robot\n",
      "Enthusiasm level (1-10): 6\n",
      "Give me an r! r\n",
      "Give me an o! o\n",
      "Give me a b! b\n",
      "Give me an o! o\n",
      "Give me a t! t\n",
      "What does that spell?\n",
      "robot !!!\n",
      "robot !!!\n",
      "robot !!!\n",
      "robot !!!\n",
      "robot !!!\n",
      "robot !!!\n"
     ]
    }
   ],
   "source": [
    "# pythonic way\n",
    "an_letters = \"aefhilmnorsxAEFHILMNORSX\"\n",
    "\n",
    "word = input(\"I will cheer for you! Enter a word: \")\n",
    "times = int(input(\"Enthusiasm level (1-10): \"))\n",
    "\n",
    "for char in word:\n",
    "    if char in an_letters:\n",
    "        print(\"Give me an \" + char + \"! \" + char)\n",
    "    else:\n",
    "        print(\"Give me a \" + char + \"! \" + char)\n",
    "    i += 1\n",
    "print(\"What does that spell?\")\n",
    "for i in range(times):\n",
    "    print(word, \"!!!\")"
   ]
  },
  {
   "cell_type": "markdown",
   "metadata": {},
   "source": [
    "## Exercise"
   ]
  },
  {
   "cell_type": "code",
   "execution_count": 8,
   "metadata": {},
   "outputs": [
    {
     "name": "stdout",
     "output_type": "stream",
     "text": [
      "common letter\n",
      "common letter\n",
      "common letter\n",
      "common letter\n",
      "common letter\n",
      "common letter\n",
      "common letter\n"
     ]
    }
   ],
   "source": [
    "s1 = \"mit u rock\"\n",
    "s2 = \"i rule mit\"\n",
    "if len(s1) == len(s2):\n",
    "    for char1 in s1:\n",
    "        for char2 in s2:\n",
    "            if char1 == char2:\n",
    "                print(\"common letter\")\n",
    "                break"
   ]
  },
  {
   "cell_type": "markdown",
   "metadata": {},
   "source": [
    "## Guess-and-Check\n",
    "- this process also called **exhaustive enumeration**\n",
    "- given a problem...\n",
    "    - you are able to **guess a value** for a solution\n",
    "    - you are able to **check if the solution is correct**\n",
    "    - keep guessing until find solution or guessed all values"
   ]
  },
  {
   "cell_type": "markdown",
   "metadata": {},
   "source": [
    "## Guess-and-Check: cube root"
   ]
  },
  {
   "cell_type": "code",
   "execution_count": 9,
   "metadata": {},
   "outputs": [
    {
     "name": "stdout",
     "output_type": "stream",
     "text": [
      "Cube root of 8 is 2\n"
     ]
    }
   ],
   "source": [
    "cube = 8\n",
    "for guess in range(cube+1): # this code depends on the cube being a perfect cube\n",
    "    if guess**3 == cube:\n",
    "        print(\"Cube root of\", cube, \"is\", guess)"
   ]
  },
  {
   "cell_type": "code",
   "execution_count": 10,
   "metadata": {},
   "outputs": [
    {
     "name": "stdout",
     "output_type": "stream",
     "text": [
      "Cube root of 8 is 2\n"
     ]
    }
   ],
   "source": [
    "cube = 8\n",
    "for guess in range(abs(cube)+1):\n",
    "    if guess**3 >= abs(cube):\n",
    "        break\n",
    "if guess**3 != abs(cube):\n",
    "    print(cube, 'is not a perfect cube')\n",
    "else: \n",
    "    if cube < 0:\n",
    "        guess = -guess\n",
    "    print('Cube root of ' + str(cube)+ ' is ' + str(guess))"
   ]
  },
  {
   "cell_type": "markdown",
   "metadata": {},
   "source": [
    "## Approximate solutions\n",
    "- **good enough** solution\n",
    "- start with a guess and increment by some **small value**\n",
    "- keep guessing if |guess^3 - cube| >= epsilon for some small epsilon\n",
    "- decreasing increment size --> slower program\n",
    "- increasing epsilon --> faster program, less accurate answer"
   ]
  },
  {
   "cell_type": "code",
   "execution_count": 11,
   "metadata": {},
   "outputs": [
    {
     "name": "stdout",
     "output_type": "stream",
     "text": [
      "num_guesses = 29997\n",
      "2.999700000001906 is the cube root of 27\n"
     ]
    }
   ],
   "source": [
    "cube = 27\n",
    "epsilon = 0.01\n",
    "guess = 0.0\n",
    "increment = 10**-4\n",
    "num_guesses = 0\n",
    "\n",
    "while abs(guess**3 - cube) >= epsilon and guess <= cube:\n",
    "    guess += increment\n",
    "    num_guesses += 1\n",
    "print('num_guesses =', num_guesses)\n",
    "if abs(guess**3 - cube) >= epsilon:\n",
    "    print(\"Failed on cube root of\", cube)\n",
    "else: \n",
    "    print(guess, 'is close to the cube root of', cube)"
   ]
  },
  {
   "cell_type": "markdown",
   "metadata": {},
   "source": [
    "## Bisection Search\n",
    "- have interval each iteration\n",
    "- new guess is halfway in between\n",
    "- to illustrate, let's play a game\n",
    "    - one player chooses a number between 0 and 100\n",
    "    - other player must guess it in fewer than 10 guesses\n",
    "- larger the search space, better it is to use bisection search method"
   ]
  },
  {
   "cell_type": "markdown",
   "metadata": {},
   "source": [
    "## Bisection search for cube root"
   ]
  },
  {
   "cell_type": "code",
   "execution_count": 12,
   "metadata": {},
   "outputs": [
    {
     "name": "stdout",
     "output_type": "stream",
     "text": [
      "num_guesses = 14\n",
      "3.000091552734375 is close to the cube root of 27\n"
     ]
    }
   ],
   "source": [
    "cube = 27\n",
    "epsilon = 0.01\n",
    "num_guesses = 0\n",
    "low = 0\n",
    "high = cube\n",
    "guess = (high + low)/2.0\n",
    "\n",
    "while abs(guess**3 - cube) >= epsilon:\n",
    "    if guess**3 < cube:\n",
    "        low = guess\n",
    "    else:\n",
    "        high = guess\n",
    "    guess = (high + low)/2.0\n",
    "    num_guesses += 1\n",
    "print(\"num_guesses =\", num_guesses)\n",
    "print(guess, \"is close to the cube root of\", cube)"
   ]
  },
  {
   "cell_type": "markdown",
   "metadata": {},
   "source": [
    "## Bisection search convergence\n",
    "- search space\n",
    "    - first guess: $\\frac{N}{2}$\n",
    "    - second guess: $\\frac{N}{4}$\n",
    "    - kth guess: $\\frac{N}{2^k}$\n",
    "- guess converges on the order of $\\log_2{N}$ steps\n",
    "- bisection search works when value of function varies monotonically with input\n",
    "- code as shown only works for positive cubes $> 1$ -- why?\n",
    "    - because below 1, with each bisection step, the anwer will lie outside the boundaries\n",
    "- challenges:\n",
    "    - modify to work with negative cubes!\n",
    "    - modify to work with $x < 1$!"
   ]
  },
  {
   "cell_type": "code",
   "execution_count": null,
   "metadata": {},
   "outputs": [],
   "source": []
  }
 ],
 "metadata": {
  "kernelspec": {
   "display_name": "Python 3",
   "language": "python",
   "name": "python3"
  },
  "language_info": {
   "codemirror_mode": {
    "name": "ipython",
    "version": 3
   },
   "file_extension": ".py",
   "mimetype": "text/x-python",
   "name": "python",
   "nbconvert_exporter": "python",
   "pygments_lexer": "ipython3",
   "version": "3.7.6"
  }
 },
 "nbformat": 4,
 "nbformat_minor": 4
}
