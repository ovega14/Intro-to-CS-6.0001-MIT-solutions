{
 "cells": [
  {
   "cell_type": "markdown",
   "metadata": {},
   "source": [
    "# 6.0001 Lecture 5: Tuples, Lists, Aliasing, Mutability, and Cloning"
   ]
  },
  {
   "cell_type": "markdown",
   "metadata": {},
   "source": [
    "**Speaker:** Dr. Ana Bell"
   ]
  },
  {
   "cell_type": "markdown",
   "metadata": {},
   "source": [
    "## Last Time:\n",
    "- functions\n",
    "- decomposition - create structure\n",
    "- abstraction - suppress details\n",
    "- from now on will be using functions often"
   ]
  },
  {
   "cell_type": "markdown",
   "metadata": {},
   "source": [
    "## Today:\n",
    "- have seen variable types: int, float, bool, string\n",
    "- introduce new **compound data types**\n",
    "    - tuples\n",
    "    - lists\n",
    "- idea of aliasing\n",
    "- idea of mutability\n",
    "- idea of cloning"
   ]
  },
  {
   "cell_type": "markdown",
   "metadata": {},
   "source": [
    "## Tuples\n",
    "- an ordered sequence of elements, can mix element types\n",
    "- cannot change element values, i.e. **immutable** (like strings)\n",
    "- represented with parentheses\n",
    "    - te = ()\n",
    "    - t = (2, \"mit\", 3)\n",
    "    - t[0] --> evaluates to 2\n",
    "    - (2, \"mit\", 3)  + (5, 6) --> evaluates to (2, \"mit\", 3, 5, 6)\n",
    "    - t[1:2] --> slice tuple, evaluates to (\"mit\", ) # extra comma means a tuple with one element\n",
    "    - t[1:3] --> slice tuple, evaluates to (\"mit\", 3)\n",
    "    - len(t) --> evaluates to 3\n",
    "    - t[1] = 4 --> gives error; can't modify object (**immutable**)"
   ]
  },
  {
   "cell_type": "markdown",
   "metadata": {},
   "source": [
    "- conveniently used to **swap** variable values"
   ]
  },
  {
   "cell_type": "code",
   "execution_count": 1,
   "metadata": {},
   "outputs": [],
   "source": [
    "x = 1\n",
    "y = 2\n",
    "\n",
    "temp = x\n",
    "x = y\n",
    "y = temp\n",
    "\n",
    "# or, with tuples\n",
    "(x, y) = (y, x)"
   ]
  },
  {
   "cell_type": "markdown",
   "metadata": {},
   "source": [
    "- used to **return more than one value** from a function"
   ]
  },
  {
   "cell_type": "code",
   "execution_count": 3,
   "metadata": {},
   "outputs": [
    {
     "name": "stdout",
     "output_type": "stream",
     "text": [
      "0 4\n"
     ]
    }
   ],
   "source": [
    "def quotient_and_remainder(x, y):\n",
    "    q = x // y # integer division\n",
    "    r = x % y\n",
    "    return (q, r)\n",
    "(quot, rem) = quotient_and_remainder(4, 5)\n",
    "print(quot, rem)"
   ]
  },
  {
   "cell_type": "markdown",
   "metadata": {},
   "source": [
    "## Manipulating tuples\n",
    "- can **iterate** over tuples"
   ]
  },
  {
   "cell_type": "code",
   "execution_count": 5,
   "metadata": {},
   "outputs": [
    {
     "name": "stdout",
     "output_type": "stream",
     "text": [
      "1 7 2\n"
     ]
    }
   ],
   "source": [
    "def get_data(aTuple):\n",
    "    # empty tuples\n",
    "    nums = ()\n",
    "    words = ()\n",
    "    for t in aTuple:\n",
    "        nums = nums + (t[0], ) # singleton tuple\n",
    "        if t[1] not in words:\n",
    "            words = words + (t[1], )\n",
    "    min_n = min(nums)\n",
    "    max_n = max(nums)\n",
    "    unique_words = len(words)\n",
    "    return (min_n, max_n, unique_words)\n",
    "\n",
    "# test data\n",
    "test = ((1, \"a\"), (2, \"b\"), (1, \"a\"), (7, \"b\"))\n",
    "(a, b, c) = get_data(test)\n",
    "print(a, b, c)"
   ]
  },
  {
   "cell_type": "markdown",
   "metadata": {},
   "source": [
    "## Lists\n",
    "- **ordered sequence** of information, accessible by index\n",
    "- a list is denoted by **square brackets**, []\n",
    "- a list contains **elements**\n",
    "    - usually homogenous (i.e. all integers)\n",
    "    - can contain mixed types (not common)\n",
    "- list elements can be changed; i,e, lists are **mutable**"
   ]
  },
  {
   "cell_type": "markdown",
   "metadata": {},
   "source": [
    "## Indices and Ordering\n",
    "- a_list = [] # empty list\n",
    "- L = [2, 'a', 4, [1,2]]\n",
    "- len(L) --> evaluates to 4\n",
    "- L[0] --> evaluates to 2\n",
    "- L[2] + 1 --> evaluates to 5\n",
    "- L[3] --> evaluates to [1,2], another list\n",
    "- L[4] --> gives error, becuase outside length of list"
   ]
  },
  {
   "cell_type": "markdown",
   "metadata": {},
   "source": [
    "## Changing Elements\n",
    "- lists are **mutable**!\n",
    "- assigning to an element at an index changes the value"
   ]
  },
  {
   "cell_type": "code",
   "execution_count": 6,
   "metadata": {},
   "outputs": [
    {
     "name": "stdout",
     "output_type": "stream",
     "text": [
      "[2, 5, 3]\n"
     ]
    }
   ],
   "source": [
    "L = [2, 1, 3]\n",
    "L[1] = 5\n",
    "print(L)"
   ]
  },
  {
   "cell_type": "markdown",
   "metadata": {},
   "source": [
    "- L is now [2, 5, 3]; note this is the **same object** L"
   ]
  },
  {
   "cell_type": "markdown",
   "metadata": {},
   "source": [
    "## Iterating over a list\n",
    "- compute the sum of elements in a list\n",
    "- common pattern, iterative over list elements"
   ]
  },
  {
   "cell_type": "code",
   "execution_count": 7,
   "metadata": {},
   "outputs": [
    {
     "name": "stdout",
     "output_type": "stream",
     "text": [
      "10\n",
      "10\n"
     ]
    }
   ],
   "source": [
    "total = 0\n",
    "for i in range(len(L)):\n",
    "    total += L[i]\n",
    "print(total)\n",
    "\n",
    "# cleaner, more Pythonic\n",
    "total = 0\n",
    "for i in L:\n",
    "    total += i\n",
    "print(total)"
   ]
  },
  {
   "cell_type": "markdown",
   "metadata": {},
   "source": [
    "- notice\n",
    "    - list elements are indexed 0 to len(L)-1\n",
    "    - range(n) goes from 0 to n-1"
   ]
  },
  {
   "cell_type": "markdown",
   "metadata": {},
   "source": [
    "## Operations on lists - ADD\n",
    "- **add** elements of list with L.append(element)\n",
    "- **mutates** the list!\n",
    "    - L = [2, 1, 3]\n",
    "    - L.append(5) --> L is now [2, 1, 3, 5]\n",
    "- what is the dot?\n",
    "    - lists are Python objects; everything in Python is an object\n",
    "    - objects have data\n",
    "    - objects have methods and functions\n",
    "    - access this information by object_name.do_something()\n",
    "    - will learn more about these later"
   ]
  },
  {
   "cell_type": "markdown",
   "metadata": {},
   "source": [
    "## Operations on lists - ADD\n",
    "- to combine lists together use **concatenation**, + operator, to give you a new list\n",
    "- **mutate** list with L.extend(some_list)"
   ]
  },
  {
   "cell_type": "code",
   "execution_count": 8,
   "metadata": {},
   "outputs": [
    {
     "name": "stdout",
     "output_type": "stream",
     "text": [
      "L3: [2, 1, 3, 4, 5, 6]\n",
      "new L1: [2, 1, 3, 0, 6]\n"
     ]
    }
   ],
   "source": [
    "L1 = [2, 1, 3]\n",
    "L2 = [4, 5, 6]\n",
    "L3 = L1 + L2 # L3 is [2, 1, 3, 4, 5, 6], L1 and L2 unchanged\n",
    "L1.extend([0, 6]) # mutated L1 to [2, 1, 3, 0, 6]\n",
    "print(\"L3:\", L3)\n",
    "print(\"new L1:\", L1)"
   ]
  },
  {
   "cell_type": "markdown",
   "metadata": {},
   "source": [
    "## Operations on lists - remove\n",
    "- delete element at a **specific index** with del(L[index])\n",
    "- remove element at **end of list** with L.pop(), returns the removed element\n",
    "- remove a **specific element** with L.remove(element)\n",
    "    - looks for the element and removes it\n",
    "    - if element occurs multiple times, remove first occurrence\n",
    "    - if element not in list, gives an error"
   ]
  },
  {
   "cell_type": "code",
   "execution_count": 9,
   "metadata": {},
   "outputs": [
    {
     "name": "stdout",
     "output_type": "stream",
     "text": [
      "[1, 3, 6, 3, 7, 0]\n",
      "[1, 6, 3, 7, 0]\n",
      "[1, 3, 7, 0]\n",
      "[1, 3, 7]\n"
     ]
    }
   ],
   "source": [
    "L = [2, 1, 3, 6, 3, 7, 0]\n",
    "\n",
    "L.remove(2) # mutates L = [1, 3, 6, 7, 0]\n",
    "print(L)\n",
    "L.remove(3) # mutates L = [1, 6, 3, 7, 0] (only removes first occurrence of 3)\n",
    "print(L)\n",
    "del(L[1]) # mutates L = [1, 3, 7, 0]\n",
    "print(L)\n",
    "L.pop() # returns 0 and mutates L = [1, 3, 7]\n",
    "print(L)"
   ]
  },
  {
   "cell_type": "markdown",
   "metadata": {},
   "source": [
    "## Convert Lists to Strings and Back\n",
    "- convert **string to list** with list(s), returns a list with every character from s an element in L\n",
    "- can use s.split() to **split a string on a character** parameter, splits on spaces if called without a parameter\n",
    "- use ''.join(L) to turn a **list of characters into a string**, can give a character in quotes to add char between every element"
   ]
  },
  {
   "cell_type": "code",
   "execution_count": 10,
   "metadata": {},
   "outputs": [
    {
     "name": "stdout",
     "output_type": "stream",
     "text": [
      "['I', '<', '3', ' ', 'c', 's']\n",
      "['I', '3 cs']\n",
      "abc\n",
      "a_b_c\n"
     ]
    }
   ],
   "source": [
    "s = 'I<3 cs'\n",
    "print(list(s))\n",
    "print(s.split('<'))\n",
    "\n",
    "L = ['a', 'b', 'c']\n",
    "print(''.join(L))\n",
    "print('_'.join(L))"
   ]
  },
  {
   "cell_type": "markdown",
   "metadata": {},
   "source": [
    "## Other list operations\n",
    "- sort() and sorted()\n",
    "- reverse()\n",
    "- and many more! [https://docs.python.org/3/tutorial/datastructures.html]\n"
   ]
  },
  {
   "cell_type": "code",
   "execution_count": 12,
   "metadata": {},
   "outputs": [
    {
     "name": "stdout",
     "output_type": "stream",
     "text": [
      "[0, 3, 6, 9]\n",
      "[0, 3, 6, 9]\n",
      "[9, 6, 3, 0]\n"
     ]
    }
   ],
   "source": [
    "L = [9, 6, 0, 3]\n",
    "print(sorted(L)) # returns sorted list, does NOT mutate L\n",
    "L.sort() # mutates L = [0, 3, 6, 9]\n",
    "print(L)\n",
    "L.reverse() # mutates L = [9, 6, 3, 0]\n",
    "print(L)"
   ]
  },
  {
   "cell_type": "markdown",
   "metadata": {},
   "source": [
    "## Mutation, Aliasing, Cloning\n",
    "- important and tricky!\n",
    "- Python Tutor is a useful tool [http://www.pythontutor.com/]"
   ]
  },
  {
   "cell_type": "markdown",
   "metadata": {},
   "source": [
    "## Lists in Memory\n",
    "- lists are **mutable**\n",
    "- behave differently than immutable types\n",
    "- is an object in memory\n",
    "- variable name points to object\n",
    "- any variable pointing to that object is affected\n",
    "- key phrase to keep in mind when working with lists is **side effects**"
   ]
  },
  {
   "cell_type": "markdown",
   "metadata": {},
   "source": [
    "## (An Analogy)\n",
    "- attributes of a person\n",
    "    - singer, rich\n",
    "- he is known by many names\n",
    "- all nicknames point to the same person\n",
    "    - add new attribute to **one nickname**...\n",
    "        - Justin Bieber: singer, rich, troublemaker\n",
    "    - ... **all his nicknames** refer to old attributes AND all new ones\n",
    "        - The Bieb: singer, rich, troublemaker\n",
    "        - JBeebs: singer, rich, troublemaker"
   ]
  },
  {
   "cell_type": "markdown",
   "metadata": {},
   "source": [
    "## Aliases\n",
    "- hot is an **alias** for warm - changing one changes the other!\n",
    "- append() has a side effect"
   ]
  },
  {
   "cell_type": "code",
   "execution_count": 13,
   "metadata": {},
   "outputs": [
    {
     "name": "stdout",
     "output_type": "stream",
     "text": [
      "1\n",
      "1\n",
      "Hot:  ['red', 'yellow', 'orange', 'pink']\n",
      "Warm:  ['red', 'yellow', 'orange', 'pink']\n"
     ]
    }
   ],
   "source": [
    "a = 1\n",
    "b = a\n",
    "print(a)\n",
    "print(b)\n",
    "\n",
    "warm = ['red', 'yellow', 'orange']\n",
    "hot = warm\n",
    "hot.append('pink')\n",
    "print(\"Hot: \", hot)\n",
    "print(\"Warm: \", warm) # now this also has pink"
   ]
  },
  {
   "cell_type": "markdown",
   "metadata": {},
   "source": [
    "## Cloning a list\n",
    "- create a new list and **copy every element** using chill = cool[:]"
   ]
  },
  {
   "cell_type": "code",
   "execution_count": 14,
   "metadata": {},
   "outputs": [
    {
     "name": "stdout",
     "output_type": "stream",
     "text": [
      "chill: ['blue', 'green', 'grey', 'black']\n",
      "cool: ['blue', 'green', 'grey']\n"
     ]
    }
   ],
   "source": [
    "cool = ['blue', 'green', 'grey']\n",
    "chill = cool[:] # cloning will get rid of the previous side effect issue\n",
    "chill.append('black')\n",
    "print(\"chill:\", chill)\n",
    "print(\"cool:\", cool) # now they are different"
   ]
  },
  {
   "cell_type": "markdown",
   "metadata": {},
   "source": [
    "## Sorting lists"
   ]
  },
  {
   "cell_type": "markdown",
   "metadata": {},
   "source": [
    "- calling sort() **mutates** the list, returns nothing\n",
    "- calling sorted() **does not mutate** list, must assign result to a variable"
   ]
  },
  {
   "cell_type": "code",
   "execution_count": 15,
   "metadata": {},
   "outputs": [
    {
     "name": "stdout",
     "output_type": "stream",
     "text": [
      "warm: ['orange', 'red', 'yellow']\n",
      "sorted warm: None\n",
      "cool: ['grey', 'green', 'blue']\n",
      "sorted cool: ['blue', 'green', 'grey']\n"
     ]
    }
   ],
   "source": [
    "warm = ['red', 'yellow', 'orange']\n",
    "sortedwarm = warm.sort() # returns none\n",
    "print(\"warm:\", warm)\n",
    "print(\"sorted warm:\", sortedwarm)\n",
    "\n",
    "cool = ['grey', 'green', 'blue']\n",
    "sortedcool = sorted(cool)\n",
    "print(\"cool:\", cool)\n",
    "print(\"sorted cool:\", sortedcool)"
   ]
  },
  {
   "cell_type": "markdown",
   "metadata": {},
   "source": [
    "## Lists of Lists of Lists of ...\n",
    "- can have **nested** lists\n",
    "- side effects still possible after mutation"
   ]
  },
  {
   "cell_type": "code",
   "execution_count": 16,
   "metadata": {},
   "outputs": [
    {
     "name": "stdout",
     "output_type": "stream",
     "text": [
      "bright colors: [['yellow', 'orange'], ['red']]\n",
      "hot: ['red', 'pink']\n",
      "bright colors: [['yellow', 'orange'], ['red', 'pink']]\n"
     ]
    }
   ],
   "source": [
    "warm = ['yellow', 'orange']\n",
    "hot = ['red']\n",
    "brightcolors= [warm]\n",
    "brightcolors.append(hot)\n",
    "print(\"bright colors:\", brightcolors)\n",
    "hot.append('pink')\n",
    "print(\"hot:\", hot)\n",
    "print(\"bright colors:\", brightcolors) # this also will have pink"
   ]
  },
  {
   "cell_type": "markdown",
   "metadata": {},
   "source": [
    "## Mutation and Iteration\n",
    "- **avoid** mutating a list as you are iterating over it"
   ]
  },
  {
   "cell_type": "code",
   "execution_count": 17,
   "metadata": {},
   "outputs": [
    {
     "name": "stdout",
     "output_type": "stream",
     "text": [
      "L1: [2, 3, 4]\n",
      "L2: [1, 2, 5, 6]\n"
     ]
    }
   ],
   "source": [
    "# do NOT do this!\n",
    "def remove_dups(L1, L2):\n",
    "    for e in L1:\n",
    "        if e in L2:\n",
    "            L1.remove(e)\n",
    "L1 = [1, 2, 3, 4]\n",
    "L2 = [1, 2, 5, 6]\n",
    "remove_dups(L1, L2)\n",
    "print(\"L1:\", L1)\n",
    "print(\"L2:\", L2)\n",
    "\n",
    "# what went wrong?\n",
    "    # Python uses an internal counter to keep track of index it is in the loop\n",
    "    # mutating changes the list length but Python doesn't update the counter\n",
    "    # loop never sees element 2"
   ]
  },
  {
   "cell_type": "code",
   "execution_count": 18,
   "metadata": {},
   "outputs": [
    {
     "name": "stdout",
     "output_type": "stream",
     "text": [
      "L1: [3, 4]\n",
      "L2: [1, 2, 5, 6]\n"
     ]
    }
   ],
   "source": [
    "# instead, do this\n",
    "def remove_dups(L1, L2):\n",
    "    L1_copy = L1[:]\n",
    "    for e in L1_copy:\n",
    "        if e in L2:\n",
    "            L1.remove(e)\n",
    "L1 = [1, 2, 3, 4]\n",
    "L2 = [1, 2, 5, 6]\n",
    "remove_dups(L1, L2)\n",
    "print(\"L1:\", L1)\n",
    "print(\"L2:\", L2)"
   ]
  },
  {
   "cell_type": "code",
   "execution_count": null,
   "metadata": {},
   "outputs": [],
   "source": []
  }
 ],
 "metadata": {
  "kernelspec": {
   "display_name": "Python 3",
   "language": "python",
   "name": "python3"
  },
  "language_info": {
   "codemirror_mode": {
    "name": "ipython",
    "version": 3
   },
   "file_extension": ".py",
   "mimetype": "text/x-python",
   "name": "python",
   "nbconvert_exporter": "python",
   "pygments_lexer": "ipython3",
   "version": "3.7.6"
  }
 },
 "nbformat": 4,
 "nbformat_minor": 4
}
