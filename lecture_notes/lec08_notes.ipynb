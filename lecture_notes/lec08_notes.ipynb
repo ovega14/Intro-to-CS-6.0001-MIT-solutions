{
 "cells": [
  {
   "cell_type": "markdown",
   "metadata": {},
   "source": [
    "# 6.0001 Lecture 8: Object-Oriented Programming"
   ]
  },
  {
   "cell_type": "markdown",
   "metadata": {},
   "source": [
    "**Speaker:** Dr. Ana Bell"
   ]
  },
  {
   "cell_type": "markdown",
   "metadata": {},
   "source": [
    "## Objects\n",
    "- Python supports many different kinds of data\n",
    "    - 1234\n",
    "    - 3.14159\n",
    "    - \"Hello\"\n",
    "    - [1, 5, 7, 11, 13]\n",
    "    - {\"CA\": \"California\", \"MA\": \"Massachusetts\"}\n",
    "- each is an **object**, and every object has:\n",
    "    - a **type**\n",
    "    - an internal **data representation** (primitive or composite)\n",
    "    - a set of procedures for **interaction** with the object\n",
    "- an object is an **instance** of a type\n",
    "    - 1234 is an instance of int\n",
    "    - \"hello\" is an instance of a string"
   ]
  },
  {
   "cell_type": "markdown",
   "metadata": {},
   "source": [
    "# Object Oriented Programming (OOP)\n",
    "- EVERYTHING in Python is an object (and has a type)\n",
    "- can **create new objects** of some type\n",
    "- can **manipulate objects**\n",
    "- can **destroy objects**\n",
    "    - explicitly using *del* or just \"forget\" about them\n",
    "    - Python system will reclaim destroyed or inaccessible objects - called \"garbage collection\""
   ]
  },
  {
   "cell_type": "markdown",
   "metadata": {},
   "source": [
    "## What are objects?\n",
    "- objects are a **data abstraction** that captures...\n",
    "- (1) and internal representation\n",
    "    - through data attributes\n",
    "- (2) an interface for interacting with object\n",
    "    - through methods (aka procedures/functions)\n",
    "    - defines behaviors but hides implementation"
   ]
  },
  {
   "cell_type": "markdown",
   "metadata": {},
   "source": [
    "## Example: [1, 2, 3, 4] has type list\n",
    "- how are lists represented internally? \n",
    "    - linked list of cells\n",
    "- how to **manipulate** lists?\n",
    "    - L[i], L[i:j], +\n",
    "    - len(), min(), max(), del(L[i])\n",
    "    - L.append(), L.extend(), L.count(), L.index(), L.insert(), L.pop(), L.remove(), L.reverse(), L.sort()\n",
    "- internal representation should be private\n",
    "- correct behavior may be compromised if you manipulate internal representation directly"
   ]
  },
  {
   "cell_type": "markdown",
   "metadata": {},
   "source": [
    "## Advantages of OOP\n",
    "- **bundle data into packages** together with procedures that work on them through well-define interfaces\n",
    "- **divide-and-conquer** development\n",
    "    - implement and test behavior of each class separately\n",
    "    - increased modularity reduces complexity\n",
    "- classes make it easy to **reuse** code\n",
    "    - many Python modules define new classes\n",
    "    - each class has a separate environment (no collision on function names)\n",
    "    - inheritance allows subclasses to redefine or extend a selected subset of a superclass's behavior"
   ]
  },
  {
   "cell_type": "markdown",
   "metadata": {},
   "source": [
    "## Creating and using your own types with classes\n",
    "- make a distinction between **creating a class** and **using an instance** of the class\n",
    "- **creating** the class involves\n",
    "    - defining the class name\n",
    "    - defining class attributes\n",
    "    - *for example, someone wrote code to implement a list class*\n",
    "- **Using** the class involves\n",
    "    - creating new **instances** of objects\n",
    "    - doing operations on the instances\n",
    "    - *for example, L=[1, 2] and len(L)*"
   ]
  },
  {
   "cell_type": "markdown",
   "metadata": {},
   "source": [
    "## Define your own types\n",
    "- use the *class* keyword to define a new type"
   ]
  },
  {
   "cell_type": "code",
   "execution_count": 3,
   "metadata": {},
   "outputs": [],
   "source": [
    "class Coordinate(object):\n",
    "    # define attributes here\n",
    "    pass"
   ]
  },
  {
   "cell_type": "markdown",
   "metadata": {},
   "source": [
    "- similar to *def*, indent code to indicate which statements are part of the **class definition**\n",
    "- the word *object* means that *Coordinate* is a Python object and **inherits** all its attributes (inheritance next lecture)\n",
    "    - *Coordinate* is a subclass of *object*\n",
    "    - *object* is a superclass of *Coordinate*"
   ]
  },
  {
   "cell_type": "markdown",
   "metadata": {},
   "source": [
    "## What are attributes?\n",
    "- data and procedures that **\"belong\"** to the class\n",
    "- **data attributes**\n",
    "    - think of data as other objects that make up the class\n",
    "    - *for example, a coordinate is made up of two numbers*\n",
    "- **methods** (procedural attributes)\n",
    "    - think of methods as functions that only work with this class\n",
    "    - how to interact with the object\n",
    "    - *for example, you can define a distance between two coordinate objects but there is no meaning to a distance between two list objects*"
   ]
  },
  {
   "cell_type": "markdown",
   "metadata": {},
   "source": [
    "## Defining how to create an instance of a class\n",
    "- first have to define **how to create an instance** of object\n",
    "- use a **special method called __init__** to initialize some data attributes"
   ]
  },
  {
   "cell_type": "code",
   "execution_count": 4,
   "metadata": {},
   "outputs": [],
   "source": [
    "class Coordinate(object):\n",
    "    # special method to create an instance\n",
    "    def __init__(self, x, y): # self is a parameter to refer to an instance of the class\n",
    "        # two data attributes for every Coordinate object\n",
    "        self.x = x\n",
    "        self.y = y"
   ]
  },
  {
   "cell_type": "markdown",
   "metadata": {},
   "source": [
    "- *self* is a placeholder for **any instance** of the class\n",
    "    - could be called anything, but by convention is called *self*"
   ]
  },
  {
   "cell_type": "markdown",
   "metadata": {},
   "source": [
    "## Actually creating an instance of a class"
   ]
  },
  {
   "cell_type": "code",
   "execution_count": 5,
   "metadata": {},
   "outputs": [
    {
     "name": "stdout",
     "output_type": "stream",
     "text": [
      "3\n",
      "0\n"
     ]
    }
   ],
   "source": [
    "# create a new object of type Coordinate and pass in 3 and 4 to the __init__\n",
    "c = Coordinate(3,4) #don't need to pass in self\n",
    "origin = Coordinate(0,0)\n",
    "print(c.x) #use the dot to access an attribute of instance c\n",
    "print(origin.x)"
   ]
  },
  {
   "cell_type": "markdown",
   "metadata": {},
   "source": [
    "- data attributes of an instance are called **instance variables**\n",
    "- don't provide argument for *self*, Python does this automatically"
   ]
  },
  {
   "cell_type": "markdown",
   "metadata": {},
   "source": [
    "## What is a method?\n",
    "- procedural attribute, like a **function that works only with this class**\n",
    "- Python always passes the object as the first argument\n",
    "    - convention is to use *self* as the name of the first argument of all methods\n",
    "- the **\".\" operator** is used to access any attribute\n",
    "    - a data attribute of an object\n",
    "    - a method of an object"
   ]
  },
  {
   "cell_type": "markdown",
   "metadata": {},
   "source": [
    "## Define a Method for the Coordinate class"
   ]
  },
  {
   "cell_type": "code",
   "execution_count": 7,
   "metadata": {},
   "outputs": [],
   "source": [
    "class Coordinate(object):\n",
    "    def __init__(self, x, y):\n",
    "        self.x = x\n",
    "        self.y = y\n",
    "    # use self to refer to any instance; use other as another param to method\n",
    "    def distance(self, other):\n",
    "        x_diff_sq = (self.x - other.x)**2 #dot notation to access data\n",
    "        y_diff_sq = (self.y - other.y)**2\n",
    "        return (x_diff_sq + y_diff_sq)**0.5"
   ]
  },
  {
   "cell_type": "markdown",
   "metadata": {},
   "source": [
    "- other than *self* and dot notation, methods behave just like functions (take params, do operations, return)"
   ]
  },
  {
   "cell_type": "markdown",
   "metadata": {},
   "source": [
    "## How to use a method"
   ]
  },
  {
   "cell_type": "code",
   "execution_count": 8,
   "metadata": {},
   "outputs": [],
   "source": [
    "def distance(self, other):\n",
    "    # code here\n",
    "    pass"
   ]
  },
  {
   "cell_type": "markdown",
   "metadata": {},
   "source": [
    "- Using the class:"
   ]
  },
  {
   "cell_type": "code",
   "execution_count": 9,
   "metadata": {},
   "outputs": [
    {
     "name": "stdout",
     "output_type": "stream",
     "text": [
      "5.0\n"
     ]
    }
   ],
   "source": [
    "# conventional way\n",
    "c = Coordinate(3,4)\n",
    "zero  = Coordinate(0,0)\n",
    "print(c.distance(zero))"
   ]
  },
  {
   "cell_type": "code",
   "execution_count": 10,
   "metadata": {},
   "outputs": [
    {
     "name": "stdout",
     "output_type": "stream",
     "text": [
      "5.0\n"
     ]
    }
   ],
   "source": [
    "# equivalent to \n",
    "c = Coordinate(3,4)\n",
    "zero = Coordinate(0,0)\n",
    "print(Coordinate.distance(c, zero))"
   ]
  },
  {
   "cell_type": "markdown",
   "metadata": {},
   "source": [
    "## Print representation of an object"
   ]
  },
  {
   "cell_type": "code",
   "execution_count": 11,
   "metadata": {},
   "outputs": [
    {
     "name": "stdout",
     "output_type": "stream",
     "text": [
      "<__main__.Coordinate object at 0x0000024C98056488>\n"
     ]
    }
   ],
   "source": [
    "c = Coordinate(3,4)\n",
    "print(c)"
   ]
  },
  {
   "cell_type": "markdown",
   "metadata": {},
   "source": [
    "- **uninformative** print representation by default\n",
    "- define a **_ _str_ _ method** for a class\n",
    "- Python calls the _ _str_ _ method when used with the *print* on your class object\n",
    "- you choose what it does! Say that when we print a *Coordinate* object, want to show\n",
    "    - print(c)\n",
    "    - <3,4>"
   ]
  },
  {
   "cell_type": "markdown",
   "metadata": {},
   "source": [
    "## Defining your own print method"
   ]
  },
  {
   "cell_type": "code",
   "execution_count": 12,
   "metadata": {},
   "outputs": [],
   "source": [
    "class Coordinate(object):\n",
    "    def __init__(self, x, y):\n",
    "        self.x = x\n",
    "        self.y = y\n",
    "    def distance(self, other):\n",
    "        x_diff_sq = (self.x - other.x)**2 #dot notation to access data\n",
    "        y_diff_sq = (self.y - other.y)**2\n",
    "        return (x_diff_sq + y_diff_sq)**0.5\n",
    "    # name of special method\n",
    "    def __str__(self):\n",
    "        # must return a string\n",
    "        return \"<\"+str(self.x)+\",\"+str(self.y)+\">\""
   ]
  },
  {
   "cell_type": "markdown",
   "metadata": {},
   "source": [
    "## Wrapping your head around types and classes\n",
    "- can ask for the type of an object instance"
   ]
  },
  {
   "cell_type": "code",
   "execution_count": 13,
   "metadata": {},
   "outputs": [
    {
     "name": "stdout",
     "output_type": "stream",
     "text": [
      "<3,4>\n",
      "<class '__main__.Coordinate'>\n"
     ]
    }
   ],
   "source": [
    "c = Coordinate(3,4)\n",
    "print(c) #return of the __str__ method\n",
    "print(type(c)) #the type of the object c is a class Coordinate"
   ]
  },
  {
   "cell_type": "markdown",
   "metadata": {},
   "source": [
    "- this makes sense since"
   ]
  },
  {
   "cell_type": "code",
   "execution_count": 14,
   "metadata": {},
   "outputs": [
    {
     "name": "stdout",
     "output_type": "stream",
     "text": [
      "<class '__main__.Coordinate'>\n",
      "<class 'type'>\n"
     ]
    }
   ],
   "source": [
    "print(Coordinate) #a Coordinate is a class\n",
    "print(type(Coordinate)) #a Coordinate class is a type of object"
   ]
  },
  {
   "cell_type": "markdown",
   "metadata": {},
   "source": [
    "- use *isinstance()* to check if an object is a *Coordinate*"
   ]
  },
  {
   "cell_type": "code",
   "execution_count": 15,
   "metadata": {},
   "outputs": [
    {
     "name": "stdout",
     "output_type": "stream",
     "text": [
      "True\n"
     ]
    }
   ],
   "source": [
    "print(isinstance(c, Coordinate))"
   ]
  },
  {
   "cell_type": "markdown",
   "metadata": {},
   "source": [
    "## Special Operators\n",
    "- +, -, ==, <, >, len(), print, and many others\n",
    "- https://docs.python.org/3/reference/datamodel.html#basic-customization\n",
    "- like *print*, can override these to work with your class\n",
    "- define them with double underscores before/after\n",
    "    - _ _add_ _(self, other) --> self + other\n",
    "    - _ _sub_ _(self, other) --> self - other\n",
    "    - _ _eq_ _(self, other) --> self == other\n",
    "    - _ _lt_ _(self, other) --> self < other\n",
    "    - _ _len_ _(self) --> len(self)\n",
    "    - _ _str_ _(self) --> print(self)\n",
    "- ... and others"
   ]
  },
  {
   "cell_type": "markdown",
   "metadata": {},
   "source": [
    "## Example: fractions\n",
    "- create a **new type** to represent a number as a fraction\n",
    "- **internal representation** is two integers\n",
    "    - numerator\n",
    "    - denominator\n",
    "- **interface** a.k.a. **methods** a.k.a. **how to interact** with *Fraction* objects\n",
    "    - add, subtract\n",
    "    - print represenration, convert to a float\n",
    "    - invert the fraction"
   ]
  },
  {
   "cell_type": "code",
   "execution_count": 16,
   "metadata": {},
   "outputs": [
    {
     "name": "stdout",
     "output_type": "stream",
     "text": [
      "16/16\n",
      "1.0\n",
      "1.0\n",
      "1.3333333333333333\n"
     ]
    }
   ],
   "source": [
    "class Fraction(object):\n",
    "    def __init__(self, num, denom):\n",
    "        \"\"\" num and denom are integers \"\"\"\n",
    "        assert type(num) == int and type(denom) == int, 'numerator and denominator must be ints'\n",
    "        self.num = num\n",
    "        self.denom = denom\n",
    "    def __str__(self):\n",
    "        \"\"\" Returns a string represenration of self \"\"\"\n",
    "        return str(self.num) + \"/\" + str(self.denom)\n",
    "    def __add__(self, other):\n",
    "        \"\"\" Returns a new fraction representing the sum of the two \"\"\"\n",
    "        top = self.num*other.denom + self.denom*other.num\n",
    "        bott = self.denom*other.denom\n",
    "        return Fraction(top, bott)\n",
    "    def __sub__(self, other):\n",
    "        \"\"\" Returns a new fraction representing the difference of the two \"\"\"\n",
    "        top = self.num*other.denom - self.denom*other.num\n",
    "        bott = self.denom*other.denom\n",
    "        return Fraction(top, bott)\n",
    "    def __float__(self):\n",
    "        \"\"\" Returns a float value of the fraction\"\"\"\n",
    "        return self.num/self.denom\n",
    "    def inverse(self):\n",
    "        return Fraction(self.denom, self.num)\n",
    "    \n",
    "a = Fraction(1,4)\n",
    "b = Fraction(3,4)\n",
    "c = a + b # c is a Fraction object\n",
    "print(c)\n",
    "print(float(c))\n",
    "print(Fraction.__float__(c))\n",
    "print(float(b.inverse()))"
   ]
  },
  {
   "cell_type": "markdown",
   "metadata": {},
   "source": [
    "## The power of OOP\n",
    "- **bundle together objects** that share\n",
    "    - common attributes and\n",
    "    - procedures that operate on those attributes\n",
    "- use **abstraction** to make a distinction between how to implement an object vs how to use the object\n",
    "- build **layers** ob object abstractions that inherit behaviors from other classes of objects\n",
    "- create our **own classes of objects** on top of Python's basic classes"
   ]
  },
  {
   "cell_type": "code",
   "execution_count": null,
   "metadata": {},
   "outputs": [],
   "source": []
  }
 ],
 "metadata": {
  "kernelspec": {
   "display_name": "Python 3",
   "language": "python",
   "name": "python3"
  },
  "language_info": {
   "codemirror_mode": {
    "name": "ipython",
    "version": 3
   },
   "file_extension": ".py",
   "mimetype": "text/x-python",
   "name": "python",
   "nbconvert_exporter": "python",
   "pygments_lexer": "ipython3",
   "version": "3.7.6"
  }
 },
 "nbformat": 4,
 "nbformat_minor": 4
}
